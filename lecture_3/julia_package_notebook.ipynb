{
 "cells": [
  {
   "cell_type": "markdown",
   "metadata": {
    "slideshow": {
     "slide_type": "slide"
    }
   },
   "source": [
    "# Julia for Economists: Packages\n",
    "\n",
    "**Written for the North American Econometric Society Summer Meeting, June 2016**\n",
    "\n",
    "**Author**: Chase Coleman\n",
    "\n",
    "This notebook introduces julia's package manager and some of the packages we have found to be most useful"
   ]
  },
  {
   "cell_type": "markdown",
   "metadata": {},
   "source": [
    "## Julia's Package Manager\n",
    "\n",
    "One of the tools that Julia provides is a built in package manager.\n",
    "\n",
    "All of the package manager commands are within the `Pkg` module, and are called by `Pkg.command(arg)`\n",
    "\n",
    "Two types of packages\n",
    "\n",
    "* Registered: Mature package that has some sense of approval from the community\n",
    "* Unregistered: Less mature package that maybe is still developing basic functionality\n",
    "\n",
    "### Adding and Removing Registered Packages\n",
    "\n",
    "Registered packages can be added and removed by using `Pkg.add(\"PackageName\")` and `Pkg.rm(\"PackageName\")`\n",
    "\n",
    "### Adding and Removing Unregistered Packages\n",
    "\n",
    "Unregistered packages can be added by using `Pkg.clone(\"git_repo_url\")` and are removed with `Pkg.rm(\"PackageName\")`\n",
    "\n",
    "### Updating Packages\n",
    "\n",
    "Packages can be updated to their most recent version by using `Pkg.update()`\n",
    "\n",
    "Running this command will update:\n",
    "\n",
    "- Your local `METADATA`, which tracks all versions of registered packages\n",
    "- Registered packages to latest version\n",
    "- Unregistered packages to most recent commit on active branch\n",
    "\n",
    "Doesn't update \"dirty\" packages (`git status` $\\neq$ clean)"
   ]
  },
  {
   "cell_type": "markdown",
   "metadata": {
    "slideshow": {
     "slide_type": "slide"
    }
   },
   "source": [
    "## Distributions.jl\n",
    "\n",
    "A Julia package for probability distributions and associated functions. Particularly, Distributions implements:\n",
    "\n",
    "* Moments (e.g mean, variance, skewness, and kurtosis), entropy, and other properties\n",
    "* Probability density/mass functions (pdf) and their logarithm (logpdf)\n",
    "* Moment generating functions and characteristic functions\n",
    "* Sampling from population or from a distribution\n",
    "* Maximum likelihood estimation\n",
    "\n",
    "In particular, it provides a very natural (and consistent!) way to work with about 70 different distributions."
   ]
  },
  {
   "cell_type": "code",
   "execution_count": 29,
   "metadata": {
    "collapsed": false
   },
   "outputs": [],
   "source": [
    "using Distributions"
   ]
  },
  {
   "cell_type": "markdown",
   "metadata": {},
   "source": [
    "We will create a standard normal distribution and do a variety of things with it below."
   ]
  },
  {
   "cell_type": "code",
   "execution_count": 30,
   "metadata": {
    "collapsed": false
   },
   "outputs": [
    {
     "data": {
      "text/plain": [
       "10-element Array{Float64,1}:\n",
       "  0.397209\n",
       " -1.13898 \n",
       " -2.16397 \n",
       " -0.711607\n",
       " -1.77106 \n",
       " -0.330197\n",
       "  0.900757\n",
       " -2.11329 \n",
       "  1.10637 \n",
       " -0.19423 "
      ]
     },
     "execution_count": 30,
     "metadata": {},
     "output_type": "execute_result"
    }
   ],
   "source": [
    "# Create the standard normal distribution\n",
    "nrv = Normal(0.0, 1.0)\n",
    "\n",
    "# Get the 1st and 99th percentile\n",
    "nrv_quantiles = quantile(nrv, [0.01, 0.99])\n",
    "\n",
    "# Get the value of pdf (and cdf) of the 1st and 99th percentile\n",
    "nrv_pdf = pdf(nrv, nrv_quantiles)\n",
    "nrv_cdf = cdf(nrv, nrv_quantiles)\n",
    "\n",
    "# Sample from the distribution (samples 1 draw from distribution unless specified)\n",
    "rand(nrv)\n",
    "rand(nrv, 10)"
   ]
  },
  {
   "cell_type": "code",
   "execution_count": 31,
   "metadata": {
    "collapsed": false
   },
   "outputs": [
    {
     "data": {
      "text/plain": [
       "Distributions.Normal{Float64}"
      ]
     },
     "execution_count": 31,
     "metadata": {},
     "output_type": "execute_result"
    }
   ],
   "source": [
    "typeof(nrv)"
   ]
  },
  {
   "cell_type": "markdown",
   "metadata": {},
   "source": [
    "Notice that we can use almost exactly the same code -- We only change the distribution name -- to get these same items from the inverse gamma distribution"
   ]
  },
  {
   "cell_type": "code",
   "execution_count": 32,
   "metadata": {
    "collapsed": false
   },
   "outputs": [
    {
     "data": {
      "text/plain": [
       "10-element Array{Float64,1}:\n",
       " 0.485219\n",
       " 0.367005\n",
       " 0.695264\n",
       " 0.556001\n",
       " 0.984703\n",
       " 0.697786\n",
       " 0.353187\n",
       " 1.15678 \n",
       " 0.383832\n",
       " 0.696629"
      ]
     },
     "execution_count": 32,
     "metadata": {},
     "output_type": "execute_result"
    }
   ],
   "source": [
    "ivg = InverseGamma(7.0, 4.0)\n",
    "\n",
    "# Get the 1st and 99th percentile\n",
    "ivg_quantiles = quantile(ivg, [0.01, 0.99])\n",
    "\n",
    "# Get the value of pdf (and cdf) of the 1st and 99th percentile\n",
    "ivg_pdf = pdf(ivg, ivg_quantiles)\n",
    "ivg_cdf = cdf(ivg, ivg_quantiles)\n",
    "\n",
    "# Sample from the distribution (samples 1 draw from distribution unless specified)\n",
    "rand(ivg)\n",
    "rand(ivg, 10)"
   ]
  },
  {
   "cell_type": "code",
   "execution_count": 33,
   "metadata": {
    "collapsed": false
   },
   "outputs": [
    {
     "data": {
      "text/plain": [
       "4x2 Array{Float64,2}:\n",
       " 0.0   0.666667\n",
       " 1.0   0.298142\n",
       " 0.0   2.23607 \n",
       " 0.0  12.0     "
      ]
     },
     "execution_count": 33,
     "metadata": {},
     "output_type": "execute_result"
    }
   ],
   "source": [
    "[mean(nrv) mean(ivg)\n",
    " std(nrv) std(ivg)\n",
    " skewness(nrv) skewness(ivg)\n",
    " kurtosis(nrv) kurtosis(ivg)]"
   ]
  },
  {
   "cell_type": "markdown",
   "metadata": {
    "slideshow": {
     "slide_type": "slide"
    }
   },
   "source": [
    "## Interpolations.jl\n",
    "\n",
    "This package implements a variety of interpolation schemes for the Julia langauge. It has the goals of ease-of-use, broad algorithmic support, and exceptional performance.\n",
    "\n",
    "This package is still relatively new. Currently its support is best for B-splines and also supports irregular grids."
   ]
  },
  {
   "cell_type": "code",
   "execution_count": 34,
   "metadata": {
    "collapsed": false
   },
   "outputs": [],
   "source": [
    "using Interpolations"
   ]
  },
  {
   "cell_type": "markdown",
   "metadata": {},
   "source": [
    "The first thing we need to do is to create an interpolator -- By default this will be defined on [1, Npts]. We need to specify several things:\n",
    "\n",
    "* Data\n",
    "* Type of interpolation\n",
    "  - Order of interpolation\n",
    "  - Boundary Conditoins\n",
    "* Where data is located"
   ]
  },
  {
   "cell_type": "code",
   "execution_count": 35,
   "metadata": {
    "collapsed": false
   },
   "outputs": [],
   "source": [
    "lb, ub = 0.1, 10.0\n",
    "x = linspace(lb, ub, 25)\n",
    "u = log(x)\n",
    "\n",
    "# Create a BSpline using linear interpolation with data on the grid\n",
    "lin_itp = interpolate(u, BSpline(Linear()), OnGrid())\n",
    "qua_itp = interpolate(u, BSpline(Quadratic(Natural())), OnGrid());"
   ]
  },
  {
   "cell_type": "markdown",
   "metadata": {},
   "source": [
    "We can evaluate the interpolator by using \"indexing\""
   ]
  },
  {
   "cell_type": "code",
   "execution_count": 36,
   "metadata": {
    "collapsed": false
   },
   "outputs": [
    {
     "name": "stdout",
     "output_type": "stream",
     "text": [
      "Log(x) is: -2.3026\n",
      "Interpolated value at x is: -3.7733\n"
     ]
    }
   ],
   "source": [
    "println(\"Log(x) is: \", round(log(lb), 4))\n",
    "println(\"Interpolated value at x is: \", round(lin_itp[lb], 4))"
   ]
  },
  {
   "cell_type": "markdown",
   "metadata": {},
   "source": [
    "What happened??? This is on a grid point, why doesn't it match. This is what I meant when I said it would be defined by default on [1, Npts], we really need to give it the index of the point."
   ]
  },
  {
   "cell_type": "code",
   "execution_count": 37,
   "metadata": {
    "collapsed": false
   },
   "outputs": [
    {
     "name": "stdout",
     "output_type": "stream",
     "text": [
      "Log(x) is: -2.3026\n",
      "Interpolated value at x is: -2.3026\n"
     ]
    }
   ],
   "source": [
    "println(\"Log(x) is: \", round(log(x[1]), 4))\n",
    "println(\"Interpolated value at x is: \", round(lin_itp[1], 4))"
   ]
  },
  {
   "cell_type": "markdown",
   "metadata": {},
   "source": [
    "It could get annoying to always be working in indexes for us, but there is a \"scaling\" feature that allows us to move the domain to where we would like to work."
   ]
  },
  {
   "cell_type": "code",
   "execution_count": 38,
   "metadata": {
    "collapsed": false
   },
   "outputs": [],
   "source": [
    "lin_itp_s = scale(lin_itp, x)\n",
    "qua_itp_s = scale(qua_itp, x);"
   ]
  },
  {
   "cell_type": "code",
   "execution_count": 39,
   "metadata": {
    "collapsed": false
   },
   "outputs": [
    {
     "name": "stdout",
     "output_type": "stream",
     "text": [
      "Log(x) is: -2.3026\n",
      "Interpolated value at x is: -2.3026\n"
     ]
    }
   ],
   "source": [
    "println(\"Log(x) is: \", round(log(lb), 4))\n",
    "println(\"Interpolated value at x is: \", round(lin_itp_s[lb], 4))"
   ]
  },
  {
   "cell_type": "markdown",
   "metadata": {},
   "source": [
    "Extrapolation is by default set to linearly extrapolate outside of the bounds, but you can ask it to do\n",
    "\n",
    "* `Throw` : Throw an error if asked to extrapolate\n",
    "* `Flat` : Evaluate anything outside grid to the closest grid point\n",
    "* `Linear` : Linear extrapolate outside of bounds"
   ]
  },
  {
   "cell_type": "code",
   "execution_count": 40,
   "metadata": {
    "collapsed": false
   },
   "outputs": [
    {
     "name": "stdout",
     "output_type": "stream",
     "text": [
      "-2.104508665718352\n"
     ]
    },
    {
     "ename": "LoadError",
     "evalue": "LoadError: BoundsError\nwhile loading In[40], in expression starting on line 2",
     "output_type": "error",
     "traceback": [
      "LoadError: BoundsError\nwhile loading In[40], in expression starting on line 2",
      "",
      " [inlined code] from /home/chase/.julia/v0.4/Interpolations/src/extrapolation/extrapolation.jl:52",
      " in getindex at /home/chase/.julia/v0.4/Interpolations/src/extrapolation/extrapolation.jl:58"
     ]
    }
   ],
   "source": [
    "println(extrapolate(lin_itp_s, Interpolations.Throw())[lb + 0.05])\n",
    "println(extrapolate(lin_itp_s, Interpolations.Throw())[lb - 0.05])"
   ]
  },
  {
   "cell_type": "markdown",
   "metadata": {},
   "source": [
    "We can also evaluate the derivatives of our splines"
   ]
  },
  {
   "cell_type": "code",
   "execution_count": 41,
   "metadata": {
    "collapsed": false
   },
   "outputs": [
    {
     "data": {
      "text/plain": [
       "1-element Array{Float64,1}:\n",
       " 0.950788"
      ]
     },
     "execution_count": 41,
     "metadata": {},
     "output_type": "execute_result"
    }
   ],
   "source": [
    "gradient(qua_itp_s, 1.0)"
   ]
  },
  {
   "cell_type": "markdown",
   "metadata": {},
   "source": [
    "Best of all, `Interpolations.jl` is _very_ fast."
   ]
  },
  {
   "cell_type": "code",
   "execution_count": 42,
   "metadata": {
    "collapsed": false
   },
   "outputs": [
    {
     "name": "stdout",
     "output_type": "stream",
     "text": [
      "  0.179556 seconds (9 allocations: 76.294 MB, 3.34% gc time)\n"
     ]
    }
   ],
   "source": [
    "n = 10_000_000\n",
    "fine_grid = linspace(lb, ub, n)\n",
    "\n",
    "function fill_values(itp::ScaledInterpolation, x::LinSpace)\n",
    "\n",
    "    # Get number of values and allocate space\n",
    "    n = length(x)\n",
    "    interp_values = Array(Float64, n)\n",
    "\n",
    "    # Fill values\n",
    "    for i=1:n\n",
    "        interp_values[i] = itp[x[i]]\n",
    "    end\n",
    "\n",
    "    return interp_values\n",
    "end\n",
    "\n",
    "fill_values(lin_itp_s, linspace(lb, ub, 100))\n",
    "\n",
    "@time fill_values(lin_itp_s, fine_grid);"
   ]
  },
  {
   "cell_type": "markdown",
   "metadata": {
    "slideshow": {
     "slide_type": "slide"
    }
   },
   "source": [
    "## NLsolve.jl\n",
    "\n",
    "The NLsolve package solves systems of nonlinear equations. Formally, if $f$ is a multivariate function, then this package looks for some vector x that satisfies $f(x)=0$."
   ]
  },
  {
   "cell_type": "code",
   "execution_count": 43,
   "metadata": {
    "collapsed": false
   },
   "outputs": [],
   "source": [
    "using NLsolve"
   ]
  },
  {
   "cell_type": "markdown",
   "metadata": {},
   "source": [
    "Imagine solving the following system of non-linear equations:\n",
    "\n",
    "\\begin{align*}\n",
    "  x^2 - sin(y) &= 0 \\\\\n",
    "  y^2 - cos(x) &= 0\n",
    "\\end{align*}"
   ]
  },
  {
   "cell_type": "code",
   "execution_count": 44,
   "metadata": {
    "collapsed": false
   },
   "outputs": [
    {
     "data": {
      "text/plain": [
       "Results of Nonlinear Solver Algorithm\n",
       " * Algorithm: Trust-region with dogleg and autoscaling\n",
       " * Starting Point: [0.0,0.0]\n",
       " * Zero: [0.0,0.0]\n",
       " * Inf-norm of residuals: 1.000000\n",
       " * Iterations: 1000\n",
       " * Convergence: false\n",
       "   * |x - x'| < 0.0e+00: false\n",
       "   * |f(x)| < 1.0e-10: false\n",
       " * Function Calls (f): 1001\n",
       " * Jacobian Calls (df/dx): 1"
      ]
     },
     "execution_count": 44,
     "metadata": {},
     "output_type": "execute_result"
    }
   ],
   "source": [
    "function f!(xy::Vector, fxy::Vector)\n",
    "    # Pull out arguments\n",
    "    x, y = xy\n",
    "\n",
    "    # Fill fxy\n",
    "    fxy[1] = x^2 - sin(y)\n",
    "    fxy[2] = y^2 - cos(x)\n",
    "end\n",
    "\n",
    "function g!(xy::Vector, jacxy::Matrix)\n",
    "    x, y = xy\n",
    "    # Fill with derivatives of first function\n",
    "    jacxy[1, 1] = 2*x\n",
    "    jacxy[1, 2] = -cos(y)\n",
    "\n",
    "    # Fill off-diagonal\n",
    "    jacxy[2, 1] = sin(x)\n",
    "    jacxy[2, 2] = 2*y\n",
    "end\n",
    "\n",
    "res = nlsolve(f!, g!, [0.0, 0.0], ftol=1e-10)"
   ]
  },
  {
   "cell_type": "code",
   "execution_count": 45,
   "metadata": {
    "collapsed": false
   },
   "outputs": [
    {
     "data": {
      "text/plain": [
       "2-element Array{Float64,1}:\n",
       "  0.0\n",
       " -1.0"
      ]
     },
     "execution_count": 45,
     "metadata": {},
     "output_type": "execute_result"
    }
   ],
   "source": [
    "_fxy = rand(2)\n",
    "f!(res.zero, _fxy)\n",
    "_fxy"
   ]
  },
  {
   "cell_type": "markdown",
   "metadata": {
    "slideshow": {
     "slide_type": "slide"
    }
   },
   "source": [
    "## Optim.jl\n",
    "\n",
    "For many optimization problems `Optim.jl` will do very well -- However, for more complicated problems, we suggest you look into `NLopt.jl` which is based on the stable (and powerful) `NLopt` C library."
   ]
  },
  {
   "cell_type": "code",
   "execution_count": 46,
   "metadata": {
    "collapsed": true
   },
   "outputs": [],
   "source": [
    "using Optim"
   ]
  },
  {
   "cell_type": "markdown",
   "metadata": {},
   "source": [
    "Consider the following optimization problem\n",
    "\n",
    "\\begin{align*}\n",
    "  V(x) &= \\max_{c_1, c_2, c_3} v(c_1) + \\beta v(c_2) + \\beta^2 v(c_3) \\\\\n",
    "  \\text{subject to } & c_1 + c_2 + c_3 = x\n",
    "\\end{align*}\n",
    "\n",
    "We will transform this to an unconstrained problem (though this is not necessary) to simplify things. In particular, we will substitute our constraint to get\n",
    "\n",
    "$$c_3 = x - c_1 - c_2$$\n",
    "\n",
    "`Optim` does minimization, so in order to do the maximization we will minimize the negative of our objective function."
   ]
  },
  {
   "cell_type": "code",
   "execution_count": 47,
   "metadata": {
    "collapsed": false
   },
   "outputs": [
    {
     "data": {
      "text/plain": [
       "objective (generic function with 1 method)"
      ]
     },
     "execution_count": 47,
     "metadata": {},
     "output_type": "execute_result"
    }
   ],
   "source": [
    "β, x = 0.9, 1.0\n",
    "v(c) = -exp(-c)\n",
    "vp(c) = exp(-c)\n",
    "\n",
    "function objective(β, x, cvec)\n",
    "    # Unpack input\n",
    "    c1, c2 = cvec\n",
    "    c3 = x - c1 - c2\n",
    "\n",
    "    # Evaluate objective function\n",
    "    V = v(c1) + β*v(c2) + β*β*v(c3)\n",
    "\n",
    "    # Negative because we will be minimizing\n",
    "    return -V\n",
    "end"
   ]
  },
  {
   "cell_type": "code",
   "execution_count": 48,
   "metadata": {
    "collapsed": false
   },
   "outputs": [
    {
     "data": {
      "text/plain": [
       "Results of Optimization Algorithm\n",
       " * Algorithm: Nelder-Mead\n",
       " * Starting Point: [0.0,0.0]\n",
       " * Minimizer: [0.4387055184525176,0.3333012628222983]\n",
       " * Minimum: 1.934635e+00\n",
       " * Iterations: 25\n",
       " * Convergence: true\n",
       "   *  √(Σ(yᵢ-ȳ)²)/n < NaN: false\n",
       "   * Reached Maximum Number of Iterations: false\n",
       " * Objective Function Calls: 53\n"
      ]
     },
     "execution_count": 48,
     "metadata": {},
     "output_type": "execute_result"
    }
   ],
   "source": [
    "f(cvec) = objective(β, x, cvec)\n",
    "\n",
    "res_nd = optimize(f, [0.0, 0.0], NelderMead())"
   ]
  },
  {
   "cell_type": "code",
   "execution_count": 49,
   "metadata": {
    "collapsed": false
   },
   "outputs": [
    {
     "name": "stdout",
     "output_type": "stream",
     "text": [
      "[0.4387055184525176,0.3333012628222983]\n",
      "-1.9346345390589765\n"
     ]
    }
   ],
   "source": [
    "println(Optim.minimizer(res_nd))\n",
    "println(-Optim.minimum(res_nd))"
   ]
  },
  {
   "cell_type": "markdown",
   "metadata": {},
   "source": [
    "But we have more information, in this case we could also supply a gradient."
   ]
  },
  {
   "cell_type": "code",
   "execution_count": 50,
   "metadata": {
    "collapsed": false
   },
   "outputs": [
    {
     "data": {
      "text/plain": [
       "g! (generic function with 2 methods)"
      ]
     },
     "execution_count": 50,
     "metadata": {},
     "output_type": "execute_result"
    }
   ],
   "source": [
    "function grad!(β, x, cvec, storage::Vector)\n",
    "    # Unpack input\n",
    "    c1, c2 = cvec\n",
    "    c3 = x - c1 - c2\n",
    "\n",
    "    # Evaluate objective function (Notice - because we are minimizing)\n",
    "    storage[1] = -(vp(c1) - β*β*vp(c3))\n",
    "    storage[2] = -(β*vp(c2) - β*β*vp(c3))\n",
    "end\n",
    "\n",
    "g!(cvec::Vector, storage::Vector) = grad!(β, x, cvec, storage)"
   ]
  },
  {
   "cell_type": "code",
   "execution_count": 51,
   "metadata": {
    "collapsed": false
   },
   "outputs": [
    {
     "data": {
      "text/plain": [
       "Results of Optimization Algorithm\n",
       " * Algorithm: Gradient Descent\n",
       " * Starting Point: [0.0,0.0]\n",
       " * Minimizer: [0.43869384507760445,0.3333333320384733]\n",
       " * Minimum: 1.934635e+00\n",
       " * Iterations: 11\n",
       " * Convergence: true\n",
       "   * |x - x'| < 1.0e-32: false\n",
       "   * |f(x) - f(x')| / |f(x)| < 1.0e-32: false\n",
       "   * |g(x)| < 1.0e-08: true\n",
       "   * Reached Maximum Number of Iterations: false\n",
       " * Objective Function Calls: 40\n",
       " * Gradient Calls: 40"
      ]
     },
     "execution_count": 51,
     "metadata": {},
     "output_type": "execute_result"
    }
   ],
   "source": [
    "res_d = optimize(f, g!, [0.0, 0.0], method=GradientDescent())"
   ]
  },
  {
   "cell_type": "code",
   "execution_count": 52,
   "metadata": {
    "collapsed": false
   },
   "outputs": [
    {
     "data": {
      "text/plain": [
       "2-element Array{Float64,1}:\n",
       " -1.16734e-5\n",
       "  3.20692e-5"
      ]
     },
     "execution_count": 52,
     "metadata": {},
     "output_type": "execute_result"
    }
   ],
   "source": [
    "Optim.minimizer(res_d) - Optim.minimizer(res_nd)"
   ]
  },
  {
   "cell_type": "code",
   "execution_count": 53,
   "metadata": {
    "collapsed": false
   },
   "outputs": [
    {
     "data": {
      "text/plain": [
       "-5.097455790803451e-10"
      ]
     },
     "execution_count": 53,
     "metadata": {},
     "output_type": "execute_result"
    }
   ],
   "source": [
    "# If this is less than 0 then derivative optimization did better\n",
    "Optim.minimum(res_d) - Optim.minimum(res_nd)"
   ]
  },
  {
   "cell_type": "markdown",
   "metadata": {},
   "source": [
    "## Plots.jl\n",
    "\n",
    "There are several plotting packages in the julia ecosystem. [`Plots.jl`](https://github.com/tbreloff/Plots.jl) is attempting to create a unified interface which allows you to create plots using the same commands from any backend The [documentation](http://plots.readthedocs.io/en/latest/) is quite extensive and should provide many examples.\n",
    "\n",
    "In the interest of full disclosure, I think this package is a still bit of a work in progress, but should eventually (2-3 months out) be the main interface to plotting. I suggest using either the `plotlyjs` or the `pyplot` backend once you do start using it."
   ]
  },
  {
   "cell_type": "code",
   "execution_count": 54,
   "metadata": {
    "collapsed": true
   },
   "outputs": [],
   "source": [
    "using Plots"
   ]
  },
  {
   "cell_type": "code",
   "execution_count": 55,
   "metadata": {
    "collapsed": false
   },
   "outputs": [
    {
     "data": {
      "text/plain": [
       "Plots.PyPlotBackend()"
      ]
     },
     "execution_count": 55,
     "metadata": {},
     "output_type": "execute_result"
    }
   ],
   "source": [
    "pyplot()"
   ]
  },
  {
   "cell_type": "code",
   "execution_count": 56,
   "metadata": {
    "collapsed": false
   },
   "outputs": [
    {
     "data": {
      "image/png": "[encoded data removed]",
      "text/plain": [
       "PyPlot.Figure(PyObject <matplotlib.figure.Figure object at 0x7f11514c9150>)"
      ]
     },
     "metadata": {},
     "output_type": "display_data"
    },
    {
     "data": {
      "text/html": [
       "<img src=\"data:image/png;base64,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\" />"
      ]
     },
     "execution_count": 56,
     "metadata": {},
     "output_type": "execute_result"
    }
   ],
   "source": [
    "plot(randn(10, 3))"
   ]
  },
  {
   "cell_type": "markdown",
   "metadata": {
    "slideshow": {
     "slide_type": "slide"
    }
   },
   "source": [
    "## QuantEcon.jl\n",
    "\n",
    "`QuantEcon.jl` is a set of general tools that are being developed to help economists do research in Julia. There is already strong support for linear quadratic problems, discrete dynamic programming, and Markov chains.\n",
    "\n",
    "Will showcase material on Markov chains, but suggest seeing the [lecture site](http://quant-econ.net/) and [notebook gallery](http://quantecon.org/notebooks.html) for examples of how to use other tools within QuantEcon."
   ]
  },
  {
   "cell_type": "code",
   "execution_count": 57,
   "metadata": {
    "collapsed": false
   },
   "outputs": [],
   "source": [
    "using QuantEcon"
   ]
  },
  {
   "cell_type": "code",
   "execution_count": 58,
   "metadata": {
    "collapsed": false
   },
   "outputs": [
    {
     "data": {
      "text/plain": [
       "Discrete Markov Chain\n",
       "stochastic matrix of type Array{Float64,2}:\n",
       "2x2 Array{Float64,2}:\n",
       " 0.9  0.1\n",
       " 0.1  0.9\n"
      ]
     },
     "execution_count": 58,
     "metadata": {},
     "output_type": "execute_result"
    }
   ],
   "source": [
    "# Define a transition matrix\n",
    "Π = [0.9 0.1\n",
    "     0.1 0.9]\n",
    "\n",
    "# Define the state values\n",
    "state_values = [0.5, 1.5]\n",
    "\n",
    "# Create the Markov chain\n",
    "mc = MarkovChain(Π, state_values)"
   ]
  },
  {
   "cell_type": "markdown",
   "metadata": {},
   "source": [
    "Additionally, one can create Markov chains using either the Rouwenhorst or Tauchen methods for approximating an AR(1)."
   ]
  },
  {
   "cell_type": "code",
   "execution_count": 59,
   "metadata": {
    "collapsed": false
   },
   "outputs": [
    {
     "data": {
      "text/plain": [
       "Discrete Markov Chain\n",
       "stochastic matrix of type Array{Float64,2}:\n",
       "5x5 Array{Float64,2}:\n",
       " 0.814506    0.171475  0.0135375  0.000475  6.25e-6   \n",
       " 0.0428688   0.821275  0.128963   0.006775  0.00011875\n",
       " 0.00225625  0.085975  0.823537   0.085975  0.00225625\n",
       " 0.00011875  0.006775  0.128963   0.821275  0.0428688 \n",
       " 6.25e-6     0.000475  0.0135375  0.171475  0.814506  \n"
      ]
     },
     "execution_count": 59,
     "metadata": {},
     "output_type": "execute_result"
    }
   ],
   "source": [
    "mc_r = rouwenhorst(5, 0.9, 0.1)"
   ]
  },
  {
   "cell_type": "markdown",
   "metadata": {},
   "source": [
    "Once we have a Markov chain, we can:\n",
    "\n",
    "* simulate (indices of state or values)\n",
    "* find stationary distributions\n",
    "* find periods (and whether it is periodic)\n",
    "* etc..."
   ]
  },
  {
   "cell_type": "code",
   "execution_count": 60,
   "metadata": {
    "collapsed": false
   },
   "outputs": [
    {
     "data": {
      "text/plain": [
       "10x1 Array{Int64,2}:\n",
       " 1\n",
       " 1\n",
       " 1\n",
       " 1\n",
       " 1\n",
       " 1\n",
       " 1\n",
       " 1\n",
       " 1\n",
       " 1"
      ]
     },
     "execution_count": 60,
     "metadata": {},
     "output_type": "execute_result"
    }
   ],
   "source": [
    "simulate(mc, 10)"
   ]
  },
  {
   "cell_type": "code",
   "execution_count": 61,
   "metadata": {
    "collapsed": false
   },
   "outputs": [
    {
     "data": {
      "text/plain": [
       "10x1 Array{Float64,2}:\n",
       " 0.5\n",
       " 0.5\n",
       " 0.5\n",
       " 0.5\n",
       " 0.5\n",
       " 0.5\n",
       " 0.5\n",
       " 0.5\n",
       " 0.5\n",
       " 0.5"
      ]
     },
     "execution_count": 61,
     "metadata": {},
     "output_type": "execute_result"
    }
   ],
   "source": [
    "simulate_values(mc, 10)"
   ]
  },
  {
   "cell_type": "markdown",
   "metadata": {},
   "source": [
    "Get stationary distributions"
   ]
  },
  {
   "cell_type": "code",
   "execution_count": 62,
   "metadata": {
    "collapsed": false
   },
   "outputs": [
    {
     "data": {
      "text/plain": [
       "2-element Array{Float64,1}:\n",
       " 0.5\n",
       " 0.5"
      ]
     },
     "execution_count": 62,
     "metadata": {},
     "output_type": "execute_result"
    }
   ],
   "source": [
    "mc_compute_stationary(mc)"
   ]
  }
 ],
 "metadata": {
  "kernelspec": {
   "display_name": "Julia 0.4.5",
   "language": "julia",
   "name": "julia-0.4"
  },
  "language_info": {
   "file_extension": ".jl",
   "mimetype": "application/julia",
   "name": "julia",
   "version": "0.4.5"
  }
 },
 "nbformat": 4,
 "nbformat_minor": 0
}
