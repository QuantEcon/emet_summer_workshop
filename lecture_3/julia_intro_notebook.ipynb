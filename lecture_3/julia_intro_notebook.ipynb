{
 "cells": [
  {
   "cell_type": "markdown",
   "metadata": {},
   "source": [
    "# Julia for Economists: Intro\n",
    "\n",
    "**Written for the North American Econometric Society Summer Meeting, June 2016**\n",
    "\n",
    "**Author**: Chase Coleman\n",
    "\n",
    "Julia is a new computing language that centers on numerical computation and is built around just in time (JIT) compiling. It's features allow it to achieve near C-like speeds while maintaining the ability to write high level code.\n",
    "\n",
    "**Pros**\n",
    "\n",
    "* Fast\n",
    "* High level language\n",
    "* Well designed language\n",
    "* Good community/package ecosystem\n",
    "\n",
    "**Cons**\n",
    "\n",
    "* Smaller community/package ecosystem than Python\n",
    "* Stability (language is new and currently developing)\n",
    "* Performance is not typically worse than other languages, but unlocking full potential sometimes requires some thought\n",
    "\n",
    "This is a relatively short seminar, so you won't be able to pick up all of the ins and outs of julia. Our goal is help get julia installed, teach you some of the basic syntax, and to expose you to the ideas that make it a nice language."
   ]
  },
  {
   "cell_type": "markdown",
   "metadata": {},
   "source": [
    "## Syntax Introduction\n",
    "\n",
    "I use a function which applies bisection to solve for the 0 of a function to highlight some syntax features.\n",
    "\n",
    "This should feel familiar to people who have previously used matlab."
   ]
  },
  {
   "cell_type": "code",
   "execution_count": 1,
   "metadata": {
    "collapsed": false
   },
   "outputs": [
    {
     "data": {
      "text/plain": [
       "bisect (generic function with 3 methods)"
      ]
     },
     "execution_count": 1,
     "metadata": {},
     "output_type": "execute_result"
    }
   ],
   "source": [
    "# *1                          *2       *3\n",
    "function bisect(f, a, b, maxit=100, tol::Float64=1e-9)\n",
    "    # Get value of function at both points\n",
    "    fa, fb = f(a), f(b)\n",
    "\n",
    "    # Make sure points have different signs\n",
    "    if fa*fb > 0\n",
    "        # *4\n",
    "        error(\"The function f must have different signs at points a and b\")\n",
    "    end\n",
    "\n",
    "    # Iterate over 1, 2, ..., maxit\n",
    "    # *5      *6\n",
    "    for it in 1:maxit\n",
    "        # Find midpoint and evaluate function there \n",
    "        mid = (a + b)/2\n",
    "        fmid = f(mid)\n",
    "\n",
    "        # *7\n",
    "        if abs(fmid) < tol            \n",
    "            # *8\n",
    "            return mid\n",
    "        end\n",
    "\n",
    "        if fa*fmid > 0\n",
    "            fa, a = fmid, mid  \n",
    "        else\n",
    "            fb, b = fmid, mid\n",
    "        end\n",
    "    end\n",
    "    \n",
    "    error(\"maximum iterations exceeded\")\n",
    "end"
   ]
  },
  {
   "cell_type": "markdown",
   "metadata": {},
   "source": [
    "1. Define new functions with `function ... end`\n",
    "2. Default arugments `(..., arg=default_value)`\n",
    "3. Typed arguments `(..., arg::Type)`\n",
    "4. Throwing error `error(MESSAGE)`\n",
    "5. For loop `for X (in|=) SOMETHING ... end`\n",
    "6. Create ranges `A:B` (not dense like Matlab)\n",
    "7. If statement `if CONDITION BLOCK end`\n",
    "8. Return statement `return STUFF`"
   ]
  },
  {
   "cell_type": "code",
   "execution_count": 2,
   "metadata": {
    "collapsed": false
   },
   "outputs": [
    {
     "data": {
      "text/plain": [
       "f2 (generic function with 1 method)"
      ]
     },
     "execution_count": 2,
     "metadata": {},
     "output_type": "execute_result"
    }
   ],
   "source": [
    "# shorthand function syntax\n",
    "f(x) = x^2-2\n",
    "\n",
    "# longer syntax -- Equivalent\n",
    "function f2(x)\n",
    "    return x^2-2\n",
    "end"
   ]
  },
  {
   "cell_type": "code",
   "execution_count": 3,
   "metadata": {
    "collapsed": false
   },
   "outputs": [
    {
     "name": "stdout",
     "output_type": "stream",
     "text": [
      "1.4142135623842478\n",
      "1.4142135623842478\n"
     ]
    }
   ],
   "source": [
    "println(bisect(f, 0, 4))\n",
    "println(bisect(f2, 0, 4))"
   ]
  },
  {
   "cell_type": "markdown",
   "metadata": {},
   "source": [
    "## Types\n",
    "\n",
    "Everything in julia has a type. Many of you are probably familiar with the basic types:\n",
    "\n",
    "* string\n",
    "* float\n",
    "* integer\n",
    "\n",
    "This can be thought of as a `class` for those who are familiar with object oriented programming. This turns out to be an important feature of the language (for reasons we will soon talk about) and users are encouraged to define their own types.\n",
    "\n",
    "We can determine the type of any variable in julia by using the `typeof` function."
   ]
  },
  {
   "cell_type": "code",
   "execution_count": 4,
   "metadata": {
    "collapsed": false
   },
   "outputs": [
    {
     "name": "stdout",
     "output_type": "stream",
     "text": [
      "Float64\n",
      "Int64\n",
      "ASCIIString\n",
      "Function\n"
     ]
    }
   ],
   "source": [
    "println(typeof(1.0))\n",
    "println(typeof(1))\n",
    "println(typeof(\"Hello World\"))\n",
    "println(typeof(bisect))"
   ]
  },
  {
   "cell_type": "markdown",
   "metadata": {},
   "source": [
    "Additionally, some types are described by \"type parameters.\" This is just additional information about the type that allows the compiler to better optimize the code it generates. Type parameters are displayed in curly brackets `{` `}`"
   ]
  },
  {
   "cell_type": "code",
   "execution_count": 5,
   "metadata": {
    "collapsed": false
   },
   "outputs": [
    {
     "name": "stdout",
     "output_type": "stream",
     "text": [
      "Array{Float64,1}\n",
      "Array{Int64,1}\n",
      "Array{Int64,2}\n"
     ]
    }
   ],
   "source": [
    "x = randn(10)  # 10 random draws from N(0, 1)\n",
    "y = [1, 2, 3, 4]  # vector of 1, 2, 3, 4\n",
    "z = reshape(y, 2, 2)  # reshape the vector into a 2x2 matrix\n",
    "\n",
    "println(typeof(x))\n",
    "println(typeof(y))\n",
    "println(typeof(z))"
   ]
  },
  {
   "cell_type": "markdown",
   "metadata": {},
   "source": [
    "There are two kinds of types:\n",
    "\n",
    "* abstract types\n",
    "* concrete types\n",
    "\n",
    "You cannot actually create instances of an abstract type, but it serves as a grouping mechanism.\n",
    "\n",
    "Consider as an example the types `Integer` and `Float`. These two are obviously related in the sense that they are numeric -- In julia there is an abstract type `Number` and both `Integer` and `Float` are sub-types of that abstract type."
   ]
  },
  {
   "cell_type": "code",
   "execution_count": 6,
   "metadata": {
    "collapsed": false
   },
   "outputs": [
    {
     "data": {
      "text/plain": [
       "true"
      ]
     },
     "execution_count": 6,
     "metadata": {},
     "output_type": "execute_result"
    }
   ],
   "source": [
    "Integer <: Number"
   ]
  },
  {
   "cell_type": "code",
   "execution_count": 7,
   "metadata": {
    "collapsed": false
   },
   "outputs": [
    {
     "data": {
      "text/plain": [
       "true"
      ]
     },
     "execution_count": 7,
     "metadata": {},
     "output_type": "execute_result"
    }
   ],
   "source": [
    "Float64 <: Number"
   ]
  },
  {
   "cell_type": "markdown",
   "metadata": {},
   "source": [
    "Syntax for defining our own types is as follows:"
   ]
  },
  {
   "cell_type": "code",
   "execution_count": 8,
   "metadata": {
    "collapsed": false
   },
   "outputs": [],
   "source": [
    "abstract StochasticProcess\n",
    "\n",
    "\"\"\"\n",
    "A Bernoulli process, X_t, is a sequence of 0s (failure) and\n",
    "1s (successes) which represent the outcome of sequential\n",
    "independent draws from the Bernoulli distribution\n",
    "\n",
    "Success with probability p\n",
    "\"\"\"\n",
    "type BernoulliProcess <: StochasticProcess\n",
    "    p::Float64\n",
    "end\n",
    "\n",
    "\"\"\"\n",
    "This type represents a \"standard\" first order autoregressive process\n",
    "described by\n",
    "\n",
    "    y_{t+1} = ρ y_t + σ ɛ_{t+1}\n",
    "\"\"\"\n",
    "type AR1 <: StochasticProcess\n",
    "    ρ::Float64  # you should put types on the fields of your types\n",
    "    σ::Float64\n",
    "end\n"
   ]
  },
  {
   "cell_type": "code",
   "execution_count": 9,
   "metadata": {
    "collapsed": false
   },
   "outputs": [
    {
     "name": "stdout",
     "output_type": "stream",
     "text": [
      "search: BernoulliProcess\n",
      "\n"
     ]
    },
    {
     "data": {
      "text/latex": [
       "A Bernoulli process, X\\_t, is a sequence of 0s (failure) and 1s (successes) which represent the outcome of sequential independent draws from the Bernoulli distribution\n",
       "Success with probability p\n"
      ],
      "text/markdown": [
       "A Bernoulli process, X_t, is a sequence of 0s (failure) and 1s (successes) which represent the outcome of sequential independent draws from the Bernoulli distribution\n",
       "\n",
       "Success with probability p\n"
      ],
      "text/plain": [
       "A Bernoulli process, X_t, is a sequence of 0s (failure) and 1s (successes) which represent the outcome of sequential independent draws from the Bernoulli distribution\n",
       "\n",
       "Success with probability p\n"
      ]
     },
     "execution_count": 9,
     "metadata": {},
     "output_type": "execute_result"
    }
   ],
   "source": [
    "?BernoulliProcess"
   ]
  },
  {
   "cell_type": "code",
   "execution_count": 10,
   "metadata": {
    "collapsed": false
   },
   "outputs": [
    {
     "name": "stdout",
     "output_type": "stream",
     "text": [
      "search: AR1 A_rdiv_Bt A_rdiv_Bc At_rdiv_B Ac_rdiv_B At_rdiv_Bt Ac_rdiv_Bc\n",
      "\n"
     ]
    },
    {
     "data": {
      "text/latex": [
       "This type represents a \"standard\" first order autoregressive process described by\n",
       "\\begin{verbatim}\n",
       "y_{t+1} = ρ y_t + σ ɛ_{t+1}\n",
       "\\end{verbatim}\n"
      ],
      "text/markdown": [
       "This type represents a \"standard\" first order autoregressive process described by\n",
       "\n",
       "```\n",
       "y_{t+1} = ρ y_t + σ ɛ_{t+1}\n",
       "```\n"
      ],
      "text/plain": [
       "This type represents a \"standard\" first order autoregressive process described by\n",
       "\n",
       "```\n",
       "y_{t+1} = ρ y_t + σ ɛ_{t+1}\n",
       "```\n"
      ]
     },
     "execution_count": 10,
     "metadata": {},
     "output_type": "execute_result"
    }
   ],
   "source": [
    "?AR1"
   ]
  },
  {
   "cell_type": "markdown",
   "metadata": {},
   "source": [
    "## Multiple Dispatch\n",
    "\n",
    "The idea of [multiple dispatch](https://en.wikipedia.org/wiki/Multiple_dispatch) revolves around the ability to specify the behaviour of a function based on the types of (all of) its arguments. Let's start with a simple example and will then return to our stochastic processes."
   ]
  },
  {
   "cell_type": "code",
   "execution_count": 11,
   "metadata": {
    "collapsed": false
   },
   "outputs": [
    {
     "data": {
      "text/plain": [
       "foo (generic function with 3 methods)"
      ]
     },
     "execution_count": 11,
     "metadata": {},
     "output_type": "execute_result"
    }
   ],
   "source": [
    "foo(x::Integer, y::Integer) = x + y\n",
    "foo(x::Integer, y::Float64) = x * y\n",
    "foo(x::AbstractString, y::Number) = x * \" \" * string(y)"
   ]
  },
  {
   "cell_type": "code",
   "execution_count": 12,
   "metadata": {
    "collapsed": false
   },
   "outputs": [
    {
     "name": "stdout",
     "output_type": "stream",
     "text": [
      "2\n",
      "1.0\n",
      "Hello World 1\n",
      "Hello World 1.0\n"
     ]
    }
   ],
   "source": [
    "println(foo(1, 1))\n",
    "println(foo(1, 1.0))\n",
    "println(foo(\"Hello World\", 1))\n",
    "println(foo(\"Hello World\", 1.0))"
   ]
  },
  {
   "cell_type": "markdown",
   "metadata": {},
   "source": [
    "Now take a minute and think about why the following piece of code returns an error."
   ]
  },
  {
   "cell_type": "code",
   "execution_count": 13,
   "metadata": {
    "collapsed": false
   },
   "outputs": [
    {
     "ename": "LoadError",
     "evalue": "LoadError: MethodError: `foo` has no method matching foo(::Float64, ::ASCIIString)\nwhile loading In[13], in expression starting on line 2",
     "output_type": "error",
     "traceback": [
      "LoadError: MethodError: `foo` has no method matching foo(::Float64, ::ASCIIString)\nwhile loading In[13], in expression starting on line 2",
      ""
     ]
    }
   ],
   "source": [
    "# Why doesn't this work?\n",
    "foo(1.0, \"Hello World\")"
   ]
  },
  {
   "cell_type": "markdown",
   "metadata": {},
   "source": [
    "## Multiple Dispatch on Stochastic Processes\n",
    "\n",
    "Now that we have a basic understanding of this idea, let's return to our stochastic process examples.\n",
    "\n",
    "Recall we defined two types\n",
    "\n",
    "* `MarkovChain`\n",
    "* `AR1`\n",
    "\n",
    "Let's write a simulation method using the ideas of multiple dispatch."
   ]
  },
  {
   "cell_type": "code",
   "execution_count": 14,
   "metadata": {
    "collapsed": false
   },
   "outputs": [
    {
     "data": {
      "text/plain": [
       "iter (generic function with 3 methods)"
      ]
     },
     "execution_count": 14,
     "metadata": {},
     "output_type": "execute_result"
    }
   ],
   "source": [
    "iter(ar::AR1, x::Float64) = ar.ρ*x + ar.σ*randn()\n",
    "\n",
    "iter(bp::BernoulliProcess, x::Int) = rand() < bp.p ? 1 : 0\n",
    "\n",
    "iter(sp::StochasticProcess, x) = error(\"Must be implemented for stochastic process\")"
   ]
  },
  {
   "cell_type": "code",
   "execution_count": 15,
   "metadata": {
    "collapsed": false
   },
   "outputs": [
    {
     "data": {
      "text/plain": [
       "simulate (generic function with 1 method)"
      ]
     },
     "execution_count": 15,
     "metadata": {},
     "output_type": "execute_result"
    }
   ],
   "source": [
    "function simulate(sp::StochasticProcess, T::Integer, x0)\n",
    "    # Allocate space\n",
    "    X = Array(typeof(x0), T)\n",
    "\n",
    "    # Fill first element\n",
    "    X[1] = x0\n",
    "    for t=1:T-1\n",
    "        X[t+1] = iter(sp, X[t])\n",
    "    end\n",
    "\n",
    "    return X\n",
    "end"
   ]
  },
  {
   "cell_type": "code",
   "execution_count": 16,
   "metadata": {
    "collapsed": false
   },
   "outputs": [
    {
     "data": {
      "text/plain": [
       "Plots.PyPlotBackend()"
      ]
     },
     "execution_count": 16,
     "metadata": {},
     "output_type": "execute_result"
    }
   ],
   "source": [
    "using Plots\n",
    "\n",
    "pyplot()"
   ]
  },
  {
   "cell_type": "code",
   "execution_count": 17,
   "metadata": {
    "collapsed": false
   },
   "outputs": [
    {
     "data": {
      "image/png": "[encoded data removed]",
      "text/plain": [
       "PyPlot.Figure(PyObject <matplotlib.figure.Figure object at 0x7f04da8a7490>)"
      ]
     },
     "metadata": {},
     "output_type": "display_data"
    },
    {
     "name": "stdout",
     "output_type": "stream",
     "text": [
      "[Plots.jl] Initializing backend: pyplot\n"
     ]
    }
   ],
   "source": [
    "ar1 = AR1(0.9, 0.1)\n",
    "bp = BernoulliProcess(0.35)\n",
    "\n",
    "sim_ar = simulate(ar1, 100, 0.0)\n",
    "sim_bp = simulate(bp, 100, 0)\n",
    "\n",
    "p = plot(sim_ar, label=\"AR(1)\")\n",
    "scatter!(sim_bp, lab=\"Bernoulli Process\")\n",
    "xaxis!(\"T\")\n",
    "yaxis!(\"X(t)\")\n",
    "ylims!(-0.5, 1.5);"
   ]
  },
  {
   "cell_type": "code",
   "execution_count": 18,
   "metadata": {
    "collapsed": false
   },
   "outputs": [
    {
     "data": {
      "text/html": [
       "<img src=\"data:image/png;base64,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\" />"
      ]
     },
     "execution_count": 18,
     "metadata": {},
     "output_type": "execute_result"
    }
   ],
   "source": [
    "p"
   ]
  },
  {
   "cell_type": "markdown",
   "metadata": {},
   "source": [
    "Note that even this example is a bit contrived. It is more in the spirit of helping you understand _how_ to use multiple dispatch rather than to really try to leverage its power."
   ]
  }
 ],
 "metadata": {
  "kernelspec": {
   "display_name": "Julia 0.4.5",
   "language": "julia",
   "name": "julia-0.4"
  },
  "language_info": {
   "file_extension": ".jl",
   "mimetype": "application/julia",
   "name": "julia",
   "version": "0.4.5"
  }
 },
 "nbformat": 4,
 "nbformat_minor": 0
}
