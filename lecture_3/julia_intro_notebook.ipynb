{
 "cells": [
  {
   "cell_type": "markdown",
   "metadata": {},
   "source": [
    "# Julia for Economists: Intro\n",
    "\n",
    "**Written for the North American Econometric Society Summer Meeting, June 2016**\n",
    "\n",
    "**Author**: Chase Coleman\n",
    "\n",
    "Julia is a new computing language that centers on numerical computation and is built around just in time (JIT) compiling. It's features allow it to achieve near C-like speeds while maintaining the ability to write high level code.\n",
    "\n",
    "**Pros**\n",
    "\n",
    "* Fast\n",
    "* High level language\n",
    "* Well designed language\n",
    "* Good community/package ecosystem\n",
    "\n",
    "**Cons**\n",
    "\n",
    "* Smaller community/package ecosystem than Python\n",
    "* Stability (language is new and currently developing)\n",
    "* Performance is not typically worse than other languages, but unlocking full potential sometimes requires some thought\n",
    "\n",
    "This is a relatively short seminar, so you won't be able to pick up all of the ins and outs of julia. Our goal is help get julia installed, teach you some of the basic syntax, and to expose you to the ideas that make it a nice language."
   ]
  },
  {
   "cell_type": "markdown",
   "metadata": {},
   "source": [
    "## Syntax Introduction\n",
    "\n",
    "I use a function which applies bisection to solve for the 0 of a function to highlight some syntax features.\n",
    "\n",
    "This should feel familiar to people who have previously used matlab."
   ]
  },
  {
   "cell_type": "code",
   "execution_count": 1,
   "metadata": {
    "collapsed": false
   },
   "outputs": [
    {
     "data": {
      "text/plain": [
       "bisect (generic function with 3 methods)"
      ]
     },
     "execution_count": 1,
     "metadata": {},
     "output_type": "execute_result"
    }
   ],
   "source": [
    "# *1                          *2       *3\n",
    "function bisect(f, a, b, maxit=100, tol::Float64=1e-9)\n",
    "    # Get value of function at both points\n",
    "    fa, fb = f(a), f(b)\n",
    "\n",
    "    # Make sure points have different signs\n",
    "    if fa*fb > 0\n",
    "        # *4\n",
    "        error(\"The function f must have different signs at points a and b\")\n",
    "    end\n",
    "\n",
    "    # Iterate over 1, 2, ..., maxit\n",
    "    # *5      *6\n",
    "    for it in 1:maxit\n",
    "        # Find midpoint and evaluate function there \n",
    "        mid = (a + b)/2\n",
    "        fmid = f(mid)\n",
    "\n",
    "        # *7\n",
    "        if abs(fmid) < tol            \n",
    "            # *8\n",
    "            return mid\n",
    "        end\n",
    "\n",
    "        if fa*fmid > 0\n",
    "            fa, a = fmid, mid  \n",
    "        else\n",
    "            fb, b = fmid, mid\n",
    "        end\n",
    "    end\n",
    "    \n",
    "    error(\"maximum iterations exceeded\")\n",
    "end"
   ]
  },
  {
   "cell_type": "markdown",
   "metadata": {},
   "source": [
    "1. Define new functions with `function ... end`\n",
    "2. Default arugments `(..., arg=default_value)`\n",
    "3. Typed arguments `(..., arg::Type)`\n",
    "4. Throwing error `error(MESSAGE)`\n",
    "5. For loop `for X (in|=) SOMETHING ... end`\n",
    "6. Create ranges `A:B` (not dense like Matlab)\n",
    "7. If statement `if CONDITION BLOCK end`\n",
    "8. Return statement `return STUFF`"
   ]
  },
  {
   "cell_type": "code",
   "execution_count": 4,
   "metadata": {
    "collapsed": false
   },
   "outputs": [
    {
     "data": {
      "text/plain": [
       "f2 (generic function with 1 method)"
      ]
     },
     "execution_count": 4,
     "metadata": {},
     "output_type": "execute_result"
    }
   ],
   "source": [
    "# shorthand function syntax\n",
    "f(x) = x^2-2\n",
    "\n",
    "# longer syntax -- Equivalent\n",
    "function f2(x)\n",
    "    return x^2-2\n",
    "end"
   ]
  },
  {
   "cell_type": "code",
   "execution_count": 5,
   "metadata": {
    "collapsed": false
   },
   "outputs": [
    {
     "name": "stdout",
     "output_type": "stream",
     "text": [
      "1.4142135623842478\n",
      "1.4142135623842478\n"
     ]
    }
   ],
   "source": [
    "println(bisect(f, 0, 4))\n",
    "println(bisect(f2, 0, 4))"
   ]
  },
  {
   "cell_type": "markdown",
   "metadata": {},
   "source": [
    "## Types\n",
    "\n",
    "Everything in julia has a type. Many of you are probably familiar with the basic types:\n",
    "\n",
    "* string\n",
    "* float\n",
    "* integer\n",
    "\n",
    "This can be thought of as a `class` for those who are familiar with object oriented programming. This turns out to be an important feature of the language (for reasons we will soon talk about) and users are encouraged to define their own types.\n",
    "\n",
    "We can determine the type of any variable in julia by using the `typeof` function."
   ]
  },
  {
   "cell_type": "code",
   "execution_count": 7,
   "metadata": {
    "collapsed": false
   },
   "outputs": [
    {
     "name": "stdout",
     "output_type": "stream",
     "text": [
      "Float64\n",
      "Int64\n",
      "ASCIIString\n",
      "Function\n"
     ]
    }
   ],
   "source": [
    "println(typeof(1.0))\n",
    "println(typeof(1))\n",
    "println(typeof(\"Hello World\"))\n",
    "println(typeof(bisect))"
   ]
  },
  {
   "cell_type": "markdown",
   "metadata": {},
   "source": [
    "Additionally, some types are described by \"type parameters.\" This is just additional information about the type that allows the compiler to better optimize the code it generates. Type parameters are displayed in curly brackets `{` `}`"
   ]
  },
  {
   "cell_type": "code",
   "execution_count": 12,
   "metadata": {
    "collapsed": false
   },
   "outputs": [
    {
     "name": "stdout",
     "output_type": "stream",
     "text": [
      "Array{Float64,1}\n",
      "Array{Int64,1}\n",
      "Array{Int64,2}\n"
     ]
    }
   ],
   "source": [
    "x = randn(10)  # 10 random draws from N(0, 1)\n",
    "y = [1, 2, 3, 4]  # vector of 1, 2, 3, 4\n",
    "z = reshape(y, 2, 2)  # reshape the vector into a 2x2 matrix\n",
    "\n",
    "println(typeof(x))\n",
    "println(typeof(y))\n",
    "println(typeof(z))"
   ]
  },
  {
   "cell_type": "markdown",
   "metadata": {},
   "source": [
    "There are two kinds of types:\n",
    "\n",
    "* abstract types\n",
    "* concrete types\n",
    "\n",
    "You cannot actually create instances of an abstract type, but it serves as a grouping mechanism.\n",
    "\n",
    "Consider as an example the types `Integer` and `Float`. These two are obviously related in the sense that they are numeric -- In julia there is an abstract type `Number` and both `Integer` and `Float` are sub-types of that abstract type."
   ]
  },
  {
   "cell_type": "code",
   "execution_count": 12,
   "metadata": {
    "collapsed": false
   },
   "outputs": [
    {
     "data": {
      "text/plain": [
       "true"
      ]
     },
     "execution_count": 12,
     "metadata": {},
     "output_type": "execute_result"
    }
   ],
   "source": [
    "Integer <: Number"
   ]
  },
  {
   "cell_type": "code",
   "execution_count": 13,
   "metadata": {
    "collapsed": false
   },
   "outputs": [
    {
     "data": {
      "text/plain": [
       "true"
      ]
     },
     "execution_count": 13,
     "metadata": {},
     "output_type": "execute_result"
    }
   ],
   "source": [
    "Float64 <: Number"
   ]
  },
  {
   "cell_type": "markdown",
   "metadata": {},
   "source": [
    "Syntax for defining our own types is as follows:"
   ]
  },
  {
   "cell_type": "code",
   "execution_count": 38,
   "metadata": {
    "collapsed": false
   },
   "outputs": [],
   "source": [
    "abstract StochasticProcess\n",
    "\n",
    "\"\"\"\n",
    "A finite Markov chain is defined by a triple of objects, namely:\n",
    "\n",
    "* An `nxn` stochastic matrix, P\n",
    "* An `n` element state vector, S\n",
    "* An initial distribution over the `n` states, π0\n",
    "\"\"\"\n",
    "type MarkovChain <: StochasticProcess\n",
    "    P::Array{Float64, 2}\n",
    "    S::Array{Float64, 1}\n",
    "    π0::Array{Float64, 1}\n",
    "end\n",
    "\n",
    "# These functions are called constructors -- They can be used to\n",
    "# construct instances of your type when you give it different\n",
    "# amounts of information\n",
    "MarkovChain(P, S) = MarkovChain(P, S, fill(1/length(v), length(v)))\n",
    "MarkovChain(P) = MarkovChain(P, collect(1:size(Π, 1)))\n",
    "\n",
    "\"\"\"\n",
    "This type represents a \"standard\" first order autoregressive process\n",
    "described by\n",
    "\n",
    "    y_{t+1} = ρ y_t + σ ɛ_{t+1}\n",
    "\"\"\"\n",
    "type AR1 <: StochasticProcess\n",
    "    ρ::Float64  # you should put types on the fields of your types\n",
    "    σ::Float64\n",
    "end\n"
   ]
  },
  {
   "cell_type": "code",
   "execution_count": 17,
   "metadata": {
    "collapsed": false
   },
   "outputs": [
    {
     "name": "stdout",
     "output_type": "stream",
     "text": [
      "search: MarkovChain\n",
      "\n"
     ]
    },
    {
     "data": {
      "text/latex": [
       "A finite Markov chain is defined by a triple of objects, namely:\n",
       "\\begin{itemize}\n",
       "\\item An \\texttt{nxn} stochastic matrix, P\n",
       "\\item An \\texttt{n} element state vector, S\n",
       "\\item An initial distribution over the \\texttt{n} states, π0\n",
       "\\end{itemize}\n"
      ],
      "text/markdown": [
       "A finite Markov chain is defined by a triple of objects, namely:\n",
       "\n",
       "  * An `nxn` stochastic matrix, P\n",
       "  * An `n` element state vector, S\n",
       "  * An initial distribution over the `n` states, π0\n"
      ],
      "text/plain": [
       "A finite Markov chain is defined by a triple of objects, namely:\n",
       "\n",
       "  * An `nxn` stochastic matrix, P\n",
       "  * An `n` element state vector, S\n",
       "  * An initial distribution over the `n` states, π0\n"
      ]
     },
     "execution_count": 17,
     "metadata": {},
     "output_type": "execute_result"
    }
   ],
   "source": [
    "?MarkovChain"
   ]
  },
  {
   "cell_type": "code",
   "execution_count": 18,
   "metadata": {
    "collapsed": false
   },
   "outputs": [
    {
     "name": "stdout",
     "output_type": "stream",
     "text": [
      "search: AR1 A_rdiv_Bt A_rdiv_Bc At_rdiv_B Ac_rdiv_B At_rdiv_Bt Ac_rdiv_Bc\n",
      "\n"
     ]
    },
    {
     "data": {
      "text/latex": [
       "This type represents a \"standard\" first order autoregressive process described by\n",
       "\\begin{verbatim}\n",
       "y_{t+1} = ρ y_t + σ ɛ_{t+1}\n",
       "\\end{verbatim}\n"
      ],
      "text/markdown": [
       "This type represents a \"standard\" first order autoregressive process described by\n",
       "\n",
       "```\n",
       "y_{t+1} = ρ y_t + σ ɛ_{t+1}\n",
       "```\n"
      ],
      "text/plain": [
       "This type represents a \"standard\" first order autoregressive process described by\n",
       "\n",
       "```\n",
       "y_{t+1} = ρ y_t + σ ɛ_{t+1}\n",
       "```\n"
      ]
     },
     "execution_count": 18,
     "metadata": {},
     "output_type": "execute_result"
    }
   ],
   "source": [
    "?AR1"
   ]
  },
  {
   "cell_type": "markdown",
   "metadata": {},
   "source": [
    "## Multiple Dispatch\n",
    "\n",
    "The idea of [multiple dispatch](https://en.wikipedia.org/wiki/Multiple_dispatch) revolves around the ability to specify the behaviour of a function based on the types of (all of) its arguments. Let's start with a simple example and will then return to our stochastic processes."
   ]
  },
  {
   "cell_type": "code",
   "execution_count": 32,
   "metadata": {
    "collapsed": false
   },
   "outputs": [
    {
     "data": {
      "text/plain": [
       "foo (generic function with 3 methods)"
      ]
     },
     "execution_count": 32,
     "metadata": {},
     "output_type": "execute_result"
    }
   ],
   "source": [
    "foo(x::Integer, y::Integer) = x + y\n",
    "foo(x::Integer, y::Float64) = x * y\n",
    "foo(x::AbstractString, y::Number) = x * \" \" * string(y)"
   ]
  },
  {
   "cell_type": "code",
   "execution_count": 33,
   "metadata": {
    "collapsed": false
   },
   "outputs": [
    {
     "name": "stdout",
     "output_type": "stream",
     "text": [
      "2\n",
      "1.0\n",
      "Hello World 1\n",
      "Hello World 1.0\n"
     ]
    }
   ],
   "source": [
    "println(foo(1, 1))\n",
    "println(foo(1, 1.0))\n",
    "println(foo(\"Hello World\", 1))\n",
    "println(foo(\"Hello World\", 1.0))"
   ]
  },
  {
   "cell_type": "markdown",
   "metadata": {},
   "source": [
    "Now take a minute and think about why the following piece of code returns an error."
   ]
  },
  {
   "cell_type": "code",
   "execution_count": null,
   "metadata": {
    "collapsed": true
   },
   "outputs": [],
   "source": [
    "# Why doesn't this work?\n",
    "foo(1.0, \"Hello World\")"
   ]
  },
  {
   "cell_type": "markdown",
   "metadata": {},
   "source": [
    "## Multiple Dispatch on Stochastic Processes\n",
    "\n",
    "Now that we have a basic understanding of this idea, let's return to our stochastic process examples.\n",
    "\n",
    "Recall we defined two types\n",
    "\n",
    "* `MarkovChain`\n",
    "* `AR1`\n",
    "\n",
    "Let's write a simulation method using the ideas of multiple dispatch."
   ]
  },
  {
   "cell_type": "code",
   "execution_count": null,
   "metadata": {
    "collapsed": true
   },
   "outputs": [],
   "source": [
    "iter(ar::AR1, x::Float64) = ar.ρ*x + ar.σ*randn()\n",
    "\n",
    "iter(mc::MarkovChain, s::Int) = "
   ]
  },
  {
   "cell_type": "code",
   "execution_count": null,
   "metadata": {
    "collapsed": true
   },
   "outputs": [],
   "source": [
    "function simulate(sp::StochasticProcess, N::Integer)\n",
    "\n",
    "end"
   ]
  },
  {
   "cell_type": "markdown",
   "metadata": {},
   "source": [
    "Note that even this example is a bit contrived. It is more in the spirit of helping you understand _how_ to use multiple dispatch rather than to really try to leverage its power."
   ]
  }
 ],
 "metadata": {
  "kernelspec": {
   "display_name": "Julia 0.4.5",
   "language": "julia",
   "name": "julia-0.4"
  },
  "language_info": {
   "file_extension": ".jl",
   "mimetype": "application/julia",
   "name": "julia",
   "version": "0.4.5"
  }
 },
 "nbformat": 4,
 "nbformat_minor": 0
}
