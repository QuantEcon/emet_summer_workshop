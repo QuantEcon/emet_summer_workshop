{
 "cells": [
  {
   "cell_type": "markdown",
   "metadata": {},
   "source": [
    "The Basic Gravity Model\n",
    "========================\n",
    "\n",
    "This example is borrowed from [A Primer in Econometric Theory](https://www.amazon.com/Primer-Econometric-Theory-MIT-Press/dp/0262034905/ref=sr_1_1?ie=UTF8&qid=1466033301&sr=8-1&keywords=a+primer+in+econometric+theory)\n",
    "\n",
    "The gravity model relates international trade flows\n",
    "between country $i$ and country $j$ via the equation \n",
    "    \n",
    "$$\n",
    "    T_{ij} = \n",
    "    \\frac{\\lambda G_i^{\\alpha} G_j^\\beta}\n",
    "    {D_{ij}^{\\gamma}}\n",
    "$$\n",
    "\n",
    "Here $T_{ij}$ is exports from country $i$ to country $j$, $\\lambda$ is a constant term, $G_i$ and $G_j$ are GDP in country $i$  and $j$ respectively, and $D_{ij}$ is distance between them.  Taking logs gives the linear model\n",
    "\n",
    "$$\n",
    "    \\ln T_{ij} \n",
    "        = \\ln \\lambda \n",
    "        +  \\alpha \\ln G_i + \\beta \\ln G_j - \\gamma \\ln D_{ij}\n",
    "        + \\epsilon\n",
    "$$\n",
    "\n",
    "Here our aim is to give a simple example of linear regression based around this example, using Python's [statsmodels](http://statsmodels.sourceforge.net/) and [pandas](http://pandas.pydata.org/).\n",
    "\n",
    "Data\n",
    "-----\n",
    "Trade data is sourced from: http://atlas.media.mit.edu/en/resources/data and uses the SITC rev 2. product level trade dataset. This product level data is aggregated to form a bilateral trade dataset at the country level.\n",
    "\n",
    "Distance and Geography is sourced from CEPII: http://www.cepii.fr/CEPII/en/bdd_modele/presentation.asp?id=6\n",
    "\n",
    "GDP and Population statistics are from the World Development Indicators: http://data.worldbank.org/data-catalog/world-development-indicators"
   ]
  },
  {
   "cell_type": "code",
   "execution_count": 1,
   "metadata": {
    "collapsed": true
   },
   "outputs": [],
   "source": [
    "%matplotlib inline\n",
    "import pandas as pd\n",
    "import numpy as np\n",
    "from numpy import log\n",
    "import statsmodels.formula.api as smf"
   ]
  },
  {
   "cell_type": "markdown",
   "metadata": {},
   "source": [
    "### Preparation of Data using Pandas\n",
    "\n",
    "We will start from a large dataset of **full bilateral trade** data from 1962 to 2014 and extract the year 2013 and use it to estimate the most basic gravity model using ordinary least squares. \n",
    "\n",
    "This file contains product level data and is ~4GB of raw data"
   ]
  },
  {
   "cell_type": "code",
   "execution_count": 2,
   "metadata": {
    "collapsed": false
   },
   "outputs": [
    {
     "data": {
      "text/html": [
       "<div>\n",
       "<table border=\"1\" class=\"dataframe\">\n",
       "  <thead>\n",
       "    <tr style=\"text-align: right;\">\n",
       "      <th></th>\n",
       "      <th>year</th>\n",
       "      <th>origin</th>\n",
       "      <th>dest</th>\n",
       "      <th>sitc</th>\n",
       "      <th>export_val</th>\n",
       "      <th>import_val</th>\n",
       "    </tr>\n",
       "  </thead>\n",
       "  <tbody>\n",
       "    <tr>\n",
       "      <th>0</th>\n",
       "      <td>1962</td>\n",
       "      <td>ago</td>\n",
       "      <td>civ</td>\n",
       "      <td>6785</td>\n",
       "      <td>0.0</td>\n",
       "      <td>3000.0</td>\n",
       "    </tr>\n",
       "    <tr>\n",
       "      <th>1</th>\n",
       "      <td>1962</td>\n",
       "      <td>ago</td>\n",
       "      <td>civ</td>\n",
       "      <td>2654</td>\n",
       "      <td>158000.0</td>\n",
       "      <td>0.0</td>\n",
       "    </tr>\n",
       "    <tr>\n",
       "      <th>2</th>\n",
       "      <td>1962</td>\n",
       "      <td>ago</td>\n",
       "      <td>civ</td>\n",
       "      <td>6651</td>\n",
       "      <td>1000.0</td>\n",
       "      <td>0.0</td>\n",
       "    </tr>\n",
       "    <tr>\n",
       "      <th>3</th>\n",
       "      <td>1962</td>\n",
       "      <td>ago</td>\n",
       "      <td>cod</td>\n",
       "      <td>2483</td>\n",
       "      <td>0.0</td>\n",
       "      <td>1000.0</td>\n",
       "    </tr>\n",
       "    <tr>\n",
       "      <th>4</th>\n",
       "      <td>1962</td>\n",
       "      <td>ago</td>\n",
       "      <td>cod</td>\n",
       "      <td>1123</td>\n",
       "      <td>0.0</td>\n",
       "      <td>2000.0</td>\n",
       "    </tr>\n",
       "  </tbody>\n",
       "</table>\n",
       "</div>"
      ],
      "text/plain": [
       "   year origin dest  sitc  export_val  import_val\n",
       "0  1962    ago  civ  6785         0.0      3000.0\n",
       "1  1962    ago  civ  2654    158000.0         0.0\n",
       "2  1962    ago  civ  6651      1000.0         0.0\n",
       "3  1962    ago  cod  2483         0.0      1000.0\n",
       "4  1962    ago  cod  1123         0.0      2000.0"
      ]
     },
     "execution_count": 2,
     "metadata": {},
     "output_type": "execute_result"
    }
   ],
   "source": [
    "#-Trade Data File-#\n",
    "trade = \"./data/year_origin_destination_sitc_rev2.tsv\"\n",
    "#Check the Structure of the Trade Data-#\n",
    "df = pd.read_csv(trade, sep=\"\\t\", nrows=5)       #Look at first five rows\n",
    "df"
   ]
  },
  {
   "cell_type": "markdown",
   "metadata": {},
   "source": [
    "For this example we will want to **transform** this to **country level data** by aggregating over the products to obtain export / import data from country $i$ to country $j$. We will then merge this trade data with other data such as the distance between country $i$ and country $j$ and GDP data from the World Development Indicators"
   ]
  },
  {
   "cell_type": "markdown",
   "metadata": {},
   "source": [
    "First lets check the years in the **RAW** dataset"
   ]
  },
  {
   "cell_type": "code",
   "execution_count": 3,
   "metadata": {
    "collapsed": false
   },
   "outputs": [],
   "source": [
    "#-Check years and number of observations in the raw data-#\n",
    "obs = 0\n",
    "years = set()\n",
    "iter_csv = pd.read_csv(trade, sep='\\t', iterator=True, chunksize=1000000, usecols=[\"year\"])\n",
    "for chunk in iter_csv:\n",
    "    obs += len(chunk)\n",
    "    years = years.union(set(chunk.year.unique()))"
   ]
  },
  {
   "cell_type": "code",
   "execution_count": 4,
   "metadata": {
    "collapsed": false
   },
   "outputs": [
    {
     "name": "stdout",
     "output_type": "stream",
     "text": [
      "{1962, 1963, 1964, 1965, 1966, 1967, 1968, 1969, 1970, 1971, 1972, 1973, 1974, 1975, 1976, 1977, 1978, 1979, 1980, 1981, 1982, 1983, 1984, 1985, 1986, 1987, 1988, 1989, 1990, 1991, 1992, 1993, 1994, 1995, 1996, 1997, 1998, 1999, 2000, 2001, 2002, 2003, 2004, 2005, 2006, 2007, 2008, 2009, 2010, 2011, 2012, 2013, 2014}\n"
     ]
    }
   ],
   "source": [
    "print(years)"
   ]
  },
  {
   "cell_type": "code",
   "execution_count": 5,
   "metadata": {
    "collapsed": false
   },
   "outputs": [
    {
     "name": "stdout",
     "output_type": "stream",
     "text": [
      "117815053\n"
     ]
    }
   ],
   "source": [
    "print(obs)"
   ]
  },
  {
   "cell_type": "markdown",
   "metadata": {},
   "source": [
    "Let us split up the raw data and focus on the cross-section for the year 2013"
   ]
  },
  {
   "cell_type": "code",
   "execution_count": 6,
   "metadata": {
    "collapsed": true
   },
   "outputs": [],
   "source": [
    "#Note: Use a Pre-Computed Intermediate File Saved for Presentation\n",
    "\n",
    "#-Separate 2013 Year Data-#\n",
    "# iter_csv = pd.read_csv(trade, sep='\\t', iterator=True, chunksize=1000000)\n",
    "# data = pd.concat([chunk[chunk['year'] == 2013] for chunk in iter_csv])\n",
    "# data.to_csv(\"data/year_origin_destination_sitc_rev2_2013.tsv\", sep=\"\\t\")   "
   ]
  },
  {
   "cell_type": "markdown",
   "metadata": {},
   "source": [
    "To save time -- we will use a precompiled file for the year 2013"
   ]
  },
  {
   "cell_type": "code",
   "execution_count": 7,
   "metadata": {
    "collapsed": false
   },
   "outputs": [
    {
     "data": {
      "text/html": [
       "<div>\n",
       "<table border=\"1\" class=\"dataframe\">\n",
       "  <thead>\n",
       "    <tr style=\"text-align: right;\">\n",
       "      <th></th>\n",
       "      <th>year</th>\n",
       "      <th>origin</th>\n",
       "      <th>dest</th>\n",
       "      <th>sitc</th>\n",
       "      <th>export_val</th>\n",
       "      <th>import_val</th>\n",
       "    </tr>\n",
       "  </thead>\n",
       "  <tbody>\n",
       "    <tr>\n",
       "      <th>426778</th>\n",
       "      <td>2013</td>\n",
       "      <td>bdi</td>\n",
       "      <td>bdi</td>\n",
       "      <td>7283</td>\n",
       "      <td>NaN</td>\n",
       "      <td>188547.0</td>\n",
       "    </tr>\n",
       "    <tr>\n",
       "      <th>426779</th>\n",
       "      <td>2013</td>\n",
       "      <td>bdi</td>\n",
       "      <td>bdi</td>\n",
       "      <td>7810</td>\n",
       "      <td>NaN</td>\n",
       "      <td>7443.0</td>\n",
       "    </tr>\n",
       "    <tr>\n",
       "      <th>426780</th>\n",
       "      <td>2013</td>\n",
       "      <td>bdi</td>\n",
       "      <td>ben</td>\n",
       "      <td>9310</td>\n",
       "      <td>3003.0</td>\n",
       "      <td>86340.0</td>\n",
       "    </tr>\n",
       "    <tr>\n",
       "      <th>426781</th>\n",
       "      <td>2013</td>\n",
       "      <td>bdi</td>\n",
       "      <td>bfa</td>\n",
       "      <td>8212</td>\n",
       "      <td>NaN</td>\n",
       "      <td>873.0</td>\n",
       "    </tr>\n",
       "    <tr>\n",
       "      <th>426782</th>\n",
       "      <td>2013</td>\n",
       "      <td>bdi</td>\n",
       "      <td>bfa</td>\n",
       "      <td>6534</td>\n",
       "      <td>NaN</td>\n",
       "      <td>10953.0</td>\n",
       "    </tr>\n",
       "  </tbody>\n",
       "</table>\n",
       "</div>"
      ],
      "text/plain": [
       "        year origin dest  sitc  export_val  import_val\n",
       "426778  2013    bdi  bdi  7283         NaN    188547.0\n",
       "426779  2013    bdi  bdi  7810         NaN      7443.0\n",
       "426780  2013    bdi  ben  9310      3003.0     86340.0\n",
       "426781  2013    bdi  bfa  8212         NaN       873.0\n",
       "426782  2013    bdi  bfa  6534         NaN     10953.0"
      ]
     },
     "execution_count": 7,
     "metadata": {},
     "output_type": "execute_result"
    }
   ],
   "source": [
    "#-Year: 2013-#\n",
    "data = pd.read_csv(\"data/year_origin_destination_sitc_rev2_2013.tsv\", sep=\"\\t\", index_col=0)\n",
    "data.head()"
   ]
  },
  {
   "cell_type": "code",
   "execution_count": 8,
   "metadata": {
    "collapsed": false
   },
   "outputs": [
    {
     "data": {
      "text/plain": [
       "(3663399, 6)"
      ]
     },
     "execution_count": 8,
     "metadata": {},
     "output_type": "execute_result"
    }
   ],
   "source": [
    "#-Working with 3,663,399 Observations-#\n",
    "data.shape"
   ]
  },
  {
   "cell_type": "markdown",
   "metadata": {},
   "source": [
    "Now we can transform the data by adding all of the export values for each 'year', 'origin', and 'destination' across the product dimension. \n",
    "\n",
    "For this example we will focus on importer reports."
   ]
  },
  {
   "cell_type": "code",
   "execution_count": 9,
   "metadata": {
    "collapsed": false
   },
   "outputs": [
    {
     "data": {
      "text/html": [
       "<div>\n",
       "<table border=\"1\" class=\"dataframe\">\n",
       "  <thead>\n",
       "    <tr style=\"text-align: right;\">\n",
       "      <th></th>\n",
       "      <th></th>\n",
       "      <th></th>\n",
       "      <th>import_val</th>\n",
       "    </tr>\n",
       "    <tr>\n",
       "      <th>year</th>\n",
       "      <th>origin</th>\n",
       "      <th>dest</th>\n",
       "      <th></th>\n",
       "    </tr>\n",
       "  </thead>\n",
       "  <tbody>\n",
       "    <tr>\n",
       "      <th rowspan=\"5\" valign=\"top\">2013</th>\n",
       "      <th rowspan=\"5\" valign=\"top\">abw</th>\n",
       "      <th>bel</th>\n",
       "      <td>774353.0</td>\n",
       "    </tr>\n",
       "    <tr>\n",
       "      <th>bhs</th>\n",
       "      <td>4712537.0</td>\n",
       "    </tr>\n",
       "    <tr>\n",
       "      <th>che</th>\n",
       "      <td>17812626.0</td>\n",
       "    </tr>\n",
       "    <tr>\n",
       "      <th>chn</th>\n",
       "      <td>25319168.0</td>\n",
       "    </tr>\n",
       "    <tr>\n",
       "      <th>col</th>\n",
       "      <td>22160086.0</td>\n",
       "    </tr>\n",
       "  </tbody>\n",
       "</table>\n",
       "</div>"
      ],
      "text/plain": [
       "                  import_val\n",
       "year origin dest            \n",
       "2013 abw    bel     774353.0\n",
       "            bhs    4712537.0\n",
       "            che   17812626.0\n",
       "            chn   25319168.0\n",
       "            col   22160086.0"
      ]
     },
     "execution_count": 9,
     "metadata": {},
     "output_type": "execute_result"
    }
   ],
   "source": [
    "data = data[['year','origin','dest','import_val']].groupby([\"year\",\"origin\",\"dest\"]).sum()\n",
    "data.head()"
   ]
  },
  {
   "cell_type": "code",
   "execution_count": 10,
   "metadata": {
    "collapsed": false
   },
   "outputs": [],
   "source": [
    "#-Reset the Index, Rename the Columns, and Harmonise the Country Codes to Upper Case-#\n",
    "data = data.reset_index()\n",
    "data.rename(columns={'import_val':'value','origin':'eiso3c','dest':'iiso3c'}, inplace=True)\n",
    "data.eiso3c = data.eiso3c.apply(lambda x: x.upper())\n",
    "data.iiso3c = data.iiso3c.apply(lambda x: x.upper())"
   ]
  },
  {
   "cell_type": "code",
   "execution_count": 11,
   "metadata": {
    "collapsed": false
   },
   "outputs": [
    {
     "data": {
      "text/html": [
       "<div>\n",
       "<table border=\"1\" class=\"dataframe\">\n",
       "  <thead>\n",
       "    <tr style=\"text-align: right;\">\n",
       "      <th></th>\n",
       "      <th>year</th>\n",
       "      <th>eiso3c</th>\n",
       "      <th>iiso3c</th>\n",
       "      <th>value</th>\n",
       "    </tr>\n",
       "  </thead>\n",
       "  <tbody>\n",
       "    <tr>\n",
       "      <th>0</th>\n",
       "      <td>2013</td>\n",
       "      <td>ABW</td>\n",
       "      <td>BEL</td>\n",
       "      <td>774353.0</td>\n",
       "    </tr>\n",
       "    <tr>\n",
       "      <th>1</th>\n",
       "      <td>2013</td>\n",
       "      <td>ABW</td>\n",
       "      <td>BHS</td>\n",
       "      <td>4712537.0</td>\n",
       "    </tr>\n",
       "    <tr>\n",
       "      <th>2</th>\n",
       "      <td>2013</td>\n",
       "      <td>ABW</td>\n",
       "      <td>CHE</td>\n",
       "      <td>17812626.0</td>\n",
       "    </tr>\n",
       "    <tr>\n",
       "      <th>3</th>\n",
       "      <td>2013</td>\n",
       "      <td>ABW</td>\n",
       "      <td>CHN</td>\n",
       "      <td>25319168.0</td>\n",
       "    </tr>\n",
       "    <tr>\n",
       "      <th>4</th>\n",
       "      <td>2013</td>\n",
       "      <td>ABW</td>\n",
       "      <td>COL</td>\n",
       "      <td>22160086.0</td>\n",
       "    </tr>\n",
       "  </tbody>\n",
       "</table>\n",
       "</div>"
      ],
      "text/plain": [
       "   year eiso3c iiso3c       value\n",
       "0  2013    ABW    BEL    774353.0\n",
       "1  2013    ABW    BHS   4712537.0\n",
       "2  2013    ABW    CHE  17812626.0\n",
       "3  2013    ABW    CHN  25319168.0\n",
       "4  2013    ABW    COL  22160086.0"
      ]
     },
     "execution_count": 11,
     "metadata": {},
     "output_type": "execute_result"
    }
   ],
   "source": [
    "data.head()"
   ]
  },
  {
   "cell_type": "markdown",
   "metadata": {},
   "source": [
    "### Add in other data for distance, exporter and importer gdp\n",
    "\n",
    "Add in **Bilateral** attribute such as distance"
   ]
  },
  {
   "cell_type": "code",
   "execution_count": 12,
   "metadata": {
    "collapsed": false
   },
   "outputs": [
    {
     "data": {
      "text/html": [
       "<div>\n",
       "<table border=\"1\" class=\"dataframe\">\n",
       "  <thead>\n",
       "    <tr style=\"text-align: right;\">\n",
       "      <th></th>\n",
       "      <th>iso_o</th>\n",
       "      <th>iso_d</th>\n",
       "      <th>contig</th>\n",
       "      <th>comlang_off</th>\n",
       "      <th>comlang_ethno</th>\n",
       "      <th>colony</th>\n",
       "      <th>comcol</th>\n",
       "      <th>curcol</th>\n",
       "      <th>col45</th>\n",
       "      <th>smctry</th>\n",
       "      <th>dist</th>\n",
       "      <th>distcap</th>\n",
       "      <th>distw</th>\n",
       "      <th>distwces</th>\n",
       "    </tr>\n",
       "  </thead>\n",
       "  <tbody>\n",
       "    <tr>\n",
       "      <th>0</th>\n",
       "      <td>ABW</td>\n",
       "      <td>ABW</td>\n",
       "      <td>0</td>\n",
       "      <td>0</td>\n",
       "      <td>0</td>\n",
       "      <td>0</td>\n",
       "      <td>0</td>\n",
       "      <td>0</td>\n",
       "      <td>0</td>\n",
       "      <td>0</td>\n",
       "      <td>5.225315</td>\n",
       "      <td>5.225315</td>\n",
       "      <td>25.0935</td>\n",
       "      <td>23.0472</td>\n",
       "    </tr>\n",
       "    <tr>\n",
       "      <th>1</th>\n",
       "      <td>ABW</td>\n",
       "      <td>AFG</td>\n",
       "      <td>0</td>\n",
       "      <td>0</td>\n",
       "      <td>0</td>\n",
       "      <td>0</td>\n",
       "      <td>0</td>\n",
       "      <td>0</td>\n",
       "      <td>0</td>\n",
       "      <td>0</td>\n",
       "      <td>13257.810000</td>\n",
       "      <td>13257.810000</td>\n",
       "      <td>13168.2</td>\n",
       "      <td>13166.4</td>\n",
       "    </tr>\n",
       "    <tr>\n",
       "      <th>2</th>\n",
       "      <td>ABW</td>\n",
       "      <td>AGO</td>\n",
       "      <td>0</td>\n",
       "      <td>0</td>\n",
       "      <td>0</td>\n",
       "      <td>0</td>\n",
       "      <td>0</td>\n",
       "      <td>0</td>\n",
       "      <td>0</td>\n",
       "      <td>0</td>\n",
       "      <td>9516.913000</td>\n",
       "      <td>9516.913000</td>\n",
       "      <td>9587.32</td>\n",
       "      <td>9584.19</td>\n",
       "    </tr>\n",
       "    <tr>\n",
       "      <th>3</th>\n",
       "      <td>ABW</td>\n",
       "      <td>AIA</td>\n",
       "      <td>0</td>\n",
       "      <td>0</td>\n",
       "      <td>1</td>\n",
       "      <td>0</td>\n",
       "      <td>0</td>\n",
       "      <td>0</td>\n",
       "      <td>0</td>\n",
       "      <td>0</td>\n",
       "      <td>983.268200</td>\n",
       "      <td>983.268200</td>\n",
       "      <td>976.897</td>\n",
       "      <td>976.892</td>\n",
       "    </tr>\n",
       "    <tr>\n",
       "      <th>4</th>\n",
       "      <td>ABW</td>\n",
       "      <td>ALB</td>\n",
       "      <td>0</td>\n",
       "      <td>0</td>\n",
       "      <td>0</td>\n",
       "      <td>0</td>\n",
       "      <td>0</td>\n",
       "      <td>0</td>\n",
       "      <td>0</td>\n",
       "      <td>0</td>\n",
       "      <td>9091.742000</td>\n",
       "      <td>9091.742000</td>\n",
       "      <td>9091.58</td>\n",
       "      <td>9091.47</td>\n",
       "    </tr>\n",
       "  </tbody>\n",
       "</table>\n",
       "</div>"
      ],
      "text/plain": [
       "  iso_o iso_d  contig  comlang_off  comlang_ethno  colony  comcol  curcol  \\\n",
       "0   ABW   ABW       0            0              0       0       0       0   \n",
       "1   ABW   AFG       0            0              0       0       0       0   \n",
       "2   ABW   AGO       0            0              0       0       0       0   \n",
       "3   ABW   AIA       0            0              1       0       0       0   \n",
       "4   ABW   ALB       0            0              0       0       0       0   \n",
       "\n",
       "   col45  smctry          dist       distcap    distw distwces  \n",
       "0      0       0      5.225315      5.225315  25.0935  23.0472  \n",
       "1      0       0  13257.810000  13257.810000  13168.2  13166.4  \n",
       "2      0       0   9516.913000   9516.913000  9587.32  9584.19  \n",
       "3      0       0    983.268200    983.268200  976.897  976.892  \n",
       "4      0       0   9091.742000   9091.742000  9091.58  9091.47  "
      ]
     },
     "execution_count": 12,
     "metadata": {},
     "output_type": "execute_result"
    }
   ],
   "source": [
    "#-CEPII Bilateral Data-#\n",
    "dist = pd.read_excel('data/dist_cepii.xls')\n",
    "dist.head()"
   ]
  },
  {
   "cell_type": "code",
   "execution_count": 13,
   "metadata": {
    "collapsed": false
   },
   "outputs": [
    {
     "data": {
      "text/html": [
       "<div>\n",
       "<table border=\"1\" class=\"dataframe\">\n",
       "  <thead>\n",
       "    <tr style=\"text-align: right;\">\n",
       "      <th></th>\n",
       "      <th>iso_o</th>\n",
       "      <th>iso_d</th>\n",
       "      <th>dist</th>\n",
       "    </tr>\n",
       "  </thead>\n",
       "  <tbody>\n",
       "    <tr>\n",
       "      <th>0</th>\n",
       "      <td>ABW</td>\n",
       "      <td>ABW</td>\n",
       "      <td>5.225315</td>\n",
       "    </tr>\n",
       "    <tr>\n",
       "      <th>1</th>\n",
       "      <td>ABW</td>\n",
       "      <td>AFG</td>\n",
       "      <td>13257.810000</td>\n",
       "    </tr>\n",
       "    <tr>\n",
       "      <th>2</th>\n",
       "      <td>ABW</td>\n",
       "      <td>AGO</td>\n",
       "      <td>9516.913000</td>\n",
       "    </tr>\n",
       "    <tr>\n",
       "      <th>3</th>\n",
       "      <td>ABW</td>\n",
       "      <td>AIA</td>\n",
       "      <td>983.268200</td>\n",
       "    </tr>\n",
       "    <tr>\n",
       "      <th>4</th>\n",
       "      <td>ABW</td>\n",
       "      <td>ALB</td>\n",
       "      <td>9091.742000</td>\n",
       "    </tr>\n",
       "  </tbody>\n",
       "</table>\n",
       "</div>"
      ],
      "text/plain": [
       "  iso_o iso_d          dist\n",
       "0   ABW   ABW      5.225315\n",
       "1   ABW   AFG  13257.810000\n",
       "2   ABW   AGO   9516.913000\n",
       "3   ABW   AIA    983.268200\n",
       "4   ABW   ALB   9091.742000"
      ]
     },
     "execution_count": 13,
     "metadata": {},
     "output_type": "execute_result"
    }
   ],
   "source": [
    "#-Select the Data we are Interested in-#\n",
    "bilat_attrs = [\"iso_o\",\"iso_d\",\"dist\"]\n",
    "dist = dist[bilat_attrs].drop_duplicates()     #Ensure Uniqueness for Merging\n",
    "dist.head()"
   ]
  },
  {
   "cell_type": "code",
   "execution_count": 14,
   "metadata": {
    "collapsed": false
   },
   "outputs": [
    {
     "data": {
      "text/html": [
       "<div>\n",
       "<table border=\"1\" class=\"dataframe\">\n",
       "  <thead>\n",
       "    <tr style=\"text-align: right;\">\n",
       "      <th></th>\n",
       "      <th>year</th>\n",
       "      <th>eiso3c</th>\n",
       "      <th>iiso3c</th>\n",
       "      <th>value</th>\n",
       "    </tr>\n",
       "  </thead>\n",
       "  <tbody>\n",
       "    <tr>\n",
       "      <th>0</th>\n",
       "      <td>2013</td>\n",
       "      <td>ABW</td>\n",
       "      <td>BEL</td>\n",
       "      <td>774353.0</td>\n",
       "    </tr>\n",
       "    <tr>\n",
       "      <th>1</th>\n",
       "      <td>2013</td>\n",
       "      <td>ABW</td>\n",
       "      <td>BHS</td>\n",
       "      <td>4712537.0</td>\n",
       "    </tr>\n",
       "    <tr>\n",
       "      <th>2</th>\n",
       "      <td>2013</td>\n",
       "      <td>ABW</td>\n",
       "      <td>CHE</td>\n",
       "      <td>17812626.0</td>\n",
       "    </tr>\n",
       "    <tr>\n",
       "      <th>3</th>\n",
       "      <td>2013</td>\n",
       "      <td>ABW</td>\n",
       "      <td>CHN</td>\n",
       "      <td>25319168.0</td>\n",
       "    </tr>\n",
       "    <tr>\n",
       "      <th>4</th>\n",
       "      <td>2013</td>\n",
       "      <td>ABW</td>\n",
       "      <td>COL</td>\n",
       "      <td>22160086.0</td>\n",
       "    </tr>\n",
       "  </tbody>\n",
       "</table>\n",
       "</div>"
      ],
      "text/plain": [
       "   year eiso3c iiso3c       value\n",
       "0  2013    ABW    BEL    774353.0\n",
       "1  2013    ABW    BHS   4712537.0\n",
       "2  2013    ABW    CHE  17812626.0\n",
       "3  2013    ABW    CHN  25319168.0\n",
       "4  2013    ABW    COL  22160086.0"
      ]
     },
     "execution_count": 14,
     "metadata": {},
     "output_type": "execute_result"
    }
   ],
   "source": [
    "data.head()"
   ]
  },
  {
   "cell_type": "code",
   "execution_count": 15,
   "metadata": {
    "collapsed": true
   },
   "outputs": [],
   "source": [
    "#-Merge the Data-#\n",
    "data = data.merge(dist, left_on=[\"eiso3c\",\"iiso3c\"], right_on=[\"iso_o\",\"iso_d\"], how=\"inner\")"
   ]
  },
  {
   "cell_type": "code",
   "execution_count": 16,
   "metadata": {
    "collapsed": false
   },
   "outputs": [],
   "source": [
    "#-Cleanup Unnecessary Items-#\n",
    "for item in [\"iso_o\",\"iso_d\"]:\n",
    "\tdel data[item]"
   ]
  },
  {
   "cell_type": "code",
   "execution_count": 17,
   "metadata": {
    "collapsed": false
   },
   "outputs": [
    {
     "data": {
      "text/html": [
       "<div>\n",
       "<table border=\"1\" class=\"dataframe\">\n",
       "  <thead>\n",
       "    <tr style=\"text-align: right;\">\n",
       "      <th></th>\n",
       "      <th>year</th>\n",
       "      <th>eiso3c</th>\n",
       "      <th>iiso3c</th>\n",
       "      <th>value</th>\n",
       "      <th>dist</th>\n",
       "    </tr>\n",
       "  </thead>\n",
       "  <tbody>\n",
       "    <tr>\n",
       "      <th>0</th>\n",
       "      <td>2013</td>\n",
       "      <td>ABW</td>\n",
       "      <td>BEL</td>\n",
       "      <td>774353.0</td>\n",
       "      <td>7847.070</td>\n",
       "    </tr>\n",
       "    <tr>\n",
       "      <th>1</th>\n",
       "      <td>2013</td>\n",
       "      <td>ABW</td>\n",
       "      <td>BHS</td>\n",
       "      <td>4712537.0</td>\n",
       "      <td>1588.515</td>\n",
       "    </tr>\n",
       "    <tr>\n",
       "      <th>2</th>\n",
       "      <td>2013</td>\n",
       "      <td>ABW</td>\n",
       "      <td>CHE</td>\n",
       "      <td>17812626.0</td>\n",
       "      <td>8056.332</td>\n",
       "    </tr>\n",
       "    <tr>\n",
       "      <th>3</th>\n",
       "      <td>2013</td>\n",
       "      <td>ABW</td>\n",
       "      <td>CHN</td>\n",
       "      <td>25319168.0</td>\n",
       "      <td>14155.350</td>\n",
       "    </tr>\n",
       "    <tr>\n",
       "      <th>4</th>\n",
       "      <td>2013</td>\n",
       "      <td>ABW</td>\n",
       "      <td>COL</td>\n",
       "      <td>22160086.0</td>\n",
       "      <td>1036.634</td>\n",
       "    </tr>\n",
       "  </tbody>\n",
       "</table>\n",
       "</div>"
      ],
      "text/plain": [
       "   year eiso3c iiso3c       value       dist\n",
       "0  2013    ABW    BEL    774353.0   7847.070\n",
       "1  2013    ABW    BHS   4712537.0   1588.515\n",
       "2  2013    ABW    CHE  17812626.0   8056.332\n",
       "3  2013    ABW    CHN  25319168.0  14155.350\n",
       "4  2013    ABW    COL  22160086.0   1036.634"
      ]
     },
     "execution_count": 17,
     "metadata": {},
     "output_type": "execute_result"
    }
   ],
   "source": [
    "data.head()"
   ]
  },
  {
   "cell_type": "code",
   "execution_count": 18,
   "metadata": {
    "collapsed": false
   },
   "outputs": [
    {
     "data": {
      "text/html": [
       "<div>\n",
       "<table border=\"1\" class=\"dataframe\">\n",
       "  <thead>\n",
       "    <tr style=\"text-align: right;\">\n",
       "      <th></th>\n",
       "      <th>iso_o</th>\n",
       "      <th>iso_d</th>\n",
       "      <th>dist</th>\n",
       "    </tr>\n",
       "  </thead>\n",
       "  <tbody>\n",
       "    <tr>\n",
       "      <th>15</th>\n",
       "      <td>ABW</td>\n",
       "      <td>BEL</td>\n",
       "      <td>7847.07</td>\n",
       "    </tr>\n",
       "  </tbody>\n",
       "</table>\n",
       "</div>"
      ],
      "text/plain": [
       "   iso_o iso_d     dist\n",
       "15   ABW   BEL  7847.07"
      ]
     },
     "execution_count": 18,
     "metadata": {},
     "output_type": "execute_result"
    }
   ],
   "source": [
    "#-Check the Merge is Correct-#\n",
    "dist[(dist.iso_o == \"ABW\") & (dist.iso_d == \"BEL\")]"
   ]
  },
  {
   "cell_type": "markdown",
   "metadata": {},
   "source": [
    "#### Add in Exporter and Importer GDP from World Bank WDI"
   ]
  },
  {
   "cell_type": "code",
   "execution_count": 19,
   "metadata": {
    "collapsed": false
   },
   "outputs": [
    {
     "data": {
      "text/html": [
       "<div>\n",
       "<table border=\"1\" class=\"dataframe\">\n",
       "  <thead>\n",
       "    <tr style=\"text-align: right;\">\n",
       "      <th></th>\n",
       "      <th>Country Name</th>\n",
       "      <th>Country Code</th>\n",
       "      <th>Indicator Name</th>\n",
       "      <th>Indicator Code</th>\n",
       "      <th>1960</th>\n",
       "      <th>1961</th>\n",
       "      <th>1962</th>\n",
       "      <th>1963</th>\n",
       "      <th>1964</th>\n",
       "      <th>1965</th>\n",
       "      <th>...</th>\n",
       "      <th>2006</th>\n",
       "      <th>2007</th>\n",
       "      <th>2008</th>\n",
       "      <th>2009</th>\n",
       "      <th>2010</th>\n",
       "      <th>2011</th>\n",
       "      <th>2012</th>\n",
       "      <th>2013</th>\n",
       "      <th>2014</th>\n",
       "      <th>2015</th>\n",
       "    </tr>\n",
       "  </thead>\n",
       "  <tbody>\n",
       "    <tr>\n",
       "      <th>0</th>\n",
       "      <td>Afghanistan</td>\n",
       "      <td>AFG</td>\n",
       "      <td>GDP at market prices (constant 2005 US$)</td>\n",
       "      <td>NY.GDP.MKTP.KD</td>\n",
       "      <td>NaN</td>\n",
       "      <td>NaN</td>\n",
       "      <td>NaN</td>\n",
       "      <td>NaN</td>\n",
       "      <td>NaN</td>\n",
       "      <td>NaN</td>\n",
       "      <td>...</td>\n",
       "      <td>6.623602e+09</td>\n",
       "      <td>7.533699e+09</td>\n",
       "      <td>7.805769e+09</td>\n",
       "      <td>9.446592e+09</td>\n",
       "      <td>1.024325e+10</td>\n",
       "      <td>1.086949e+10</td>\n",
       "      <td>1.243847e+10</td>\n",
       "      <td>1.268216e+10</td>\n",
       "      <td>1.284862e+10</td>\n",
       "      <td>NaN</td>\n",
       "    </tr>\n",
       "  </tbody>\n",
       "</table>\n",
       "<p>1 rows × 60 columns</p>\n",
       "</div>"
      ],
      "text/plain": [
       "  Country Name Country Code                            Indicator Name  \\\n",
       "0  Afghanistan          AFG  GDP at market prices (constant 2005 US$)   \n",
       "\n",
       "   Indicator Code  1960  1961  1962  1963  1964  1965  ...           2006  \\\n",
       "0  NY.GDP.MKTP.KD   NaN   NaN   NaN   NaN   NaN   NaN  ...   6.623602e+09   \n",
       "\n",
       "           2007          2008          2009          2010          2011  \\\n",
       "0  7.533699e+09  7.805769e+09  9.446592e+09  1.024325e+10  1.086949e+10   \n",
       "\n",
       "           2012          2013          2014  2015  \n",
       "0  1.243847e+10  1.268216e+10  1.284862e+10   NaN  \n",
       "\n",
       "[1 rows x 60 columns]"
      ]
     },
     "execution_count": 19,
     "metadata": {},
     "output_type": "execute_result"
    }
   ],
   "source": [
    "#-Add World Development Indicators GDP Data-#\n",
    "gdp = pd.read_csv(\"data/wdi_gdp.csv\")\n",
    "gdp.head(n=1)"
   ]
  },
  {
   "cell_type": "code",
   "execution_count": 20,
   "metadata": {
    "collapsed": false
   },
   "outputs": [],
   "source": [
    "#-Select Data of Interest and Rename Data to descriptive name-#\n",
    "gdp2013 = gdp[['Country Code', '2013']].rename(columns={'2013': 'gdp'})"
   ]
  },
  {
   "cell_type": "code",
   "execution_count": 21,
   "metadata": {
    "collapsed": false
   },
   "outputs": [
    {
     "data": {
      "text/html": [
       "<div>\n",
       "<table border=\"1\" class=\"dataframe\">\n",
       "  <thead>\n",
       "    <tr style=\"text-align: right;\">\n",
       "      <th></th>\n",
       "      <th>Country Code</th>\n",
       "      <th>gdp</th>\n",
       "    </tr>\n",
       "  </thead>\n",
       "  <tbody>\n",
       "    <tr>\n",
       "      <th>0</th>\n",
       "      <td>AFG</td>\n",
       "      <td>1.268216e+10</td>\n",
       "    </tr>\n",
       "    <tr>\n",
       "      <th>1</th>\n",
       "      <td>ALB</td>\n",
       "      <td>1.104057e+10</td>\n",
       "    </tr>\n",
       "    <tr>\n",
       "      <th>2</th>\n",
       "      <td>DZA</td>\n",
       "      <td>1.271905e+11</td>\n",
       "    </tr>\n",
       "    <tr>\n",
       "      <th>3</th>\n",
       "      <td>ASM</td>\n",
       "      <td>NaN</td>\n",
       "    </tr>\n",
       "    <tr>\n",
       "      <th>4</th>\n",
       "      <td>ADO</td>\n",
       "      <td>2.644100e+09</td>\n",
       "    </tr>\n",
       "  </tbody>\n",
       "</table>\n",
       "</div>"
      ],
      "text/plain": [
       "  Country Code           gdp\n",
       "0          AFG  1.268216e+10\n",
       "1          ALB  1.104057e+10\n",
       "2          DZA  1.271905e+11\n",
       "3          ASM           NaN\n",
       "4          ADO  2.644100e+09"
      ]
     },
     "execution_count": 21,
     "metadata": {},
     "output_type": "execute_result"
    }
   ],
   "source": [
    "gdp2013.head()"
   ]
  },
  {
   "cell_type": "code",
   "execution_count": 22,
   "metadata": {
    "collapsed": false
   },
   "outputs": [],
   "source": [
    "#-Merge Exporter GDP Information-#\n",
    "data = data.merge(gdp2013, how='inner', left_on=['eiso3c'], right_on=['Country Code'])\n",
    "del data['Country Code']\n",
    "data.rename(columns={'gdp' : 'egdp'}, inplace=True)"
   ]
  },
  {
   "cell_type": "code",
   "execution_count": 23,
   "metadata": {
    "collapsed": false
   },
   "outputs": [
    {
     "data": {
      "text/html": [
       "<div>\n",
       "<table border=\"1\" class=\"dataframe\">\n",
       "  <thead>\n",
       "    <tr style=\"text-align: right;\">\n",
       "      <th></th>\n",
       "      <th>year</th>\n",
       "      <th>eiso3c</th>\n",
       "      <th>iiso3c</th>\n",
       "      <th>value</th>\n",
       "      <th>dist</th>\n",
       "      <th>egdp</th>\n",
       "    </tr>\n",
       "  </thead>\n",
       "  <tbody>\n",
       "    <tr>\n",
       "      <th>19</th>\n",
       "      <td>2013</td>\n",
       "      <td>AFG</td>\n",
       "      <td>CHN</td>\n",
       "      <td>136251991.0</td>\n",
       "      <td>4180.438</td>\n",
       "      <td>1.268216e+10</td>\n",
       "    </tr>\n",
       "    <tr>\n",
       "      <th>20</th>\n",
       "      <td>2013</td>\n",
       "      <td>AFG</td>\n",
       "      <td>DEU</td>\n",
       "      <td>170779239.0</td>\n",
       "      <td>5226.514</td>\n",
       "      <td>1.268216e+10</td>\n",
       "    </tr>\n",
       "    <tr>\n",
       "      <th>21</th>\n",
       "      <td>2013</td>\n",
       "      <td>AFG</td>\n",
       "      <td>GBR</td>\n",
       "      <td>290986.0</td>\n",
       "      <td>5718.078</td>\n",
       "      <td>1.268216e+10</td>\n",
       "    </tr>\n",
       "    <tr>\n",
       "      <th>22</th>\n",
       "      <td>2013</td>\n",
       "      <td>AFG</td>\n",
       "      <td>IND</td>\n",
       "      <td>43729538.0</td>\n",
       "      <td>1003.893</td>\n",
       "      <td>1.268216e+10</td>\n",
       "    </tr>\n",
       "    <tr>\n",
       "      <th>23</th>\n",
       "      <td>2013</td>\n",
       "      <td>AFG</td>\n",
       "      <td>IRN</td>\n",
       "      <td>715151592.0</td>\n",
       "      <td>1620.826</td>\n",
       "      <td>1.268216e+10</td>\n",
       "    </tr>\n",
       "  </tbody>\n",
       "</table>\n",
       "</div>"
      ],
      "text/plain": [
       "    year eiso3c iiso3c        value      dist          egdp\n",
       "19  2013    AFG    CHN  136251991.0  4180.438  1.268216e+10\n",
       "20  2013    AFG    DEU  170779239.0  5226.514  1.268216e+10\n",
       "21  2013    AFG    GBR     290986.0  5718.078  1.268216e+10\n",
       "22  2013    AFG    IND   43729538.0  1003.893  1.268216e+10\n",
       "23  2013    AFG    IRN  715151592.0  1620.826  1.268216e+10"
      ]
     },
     "execution_count": 23,
     "metadata": {},
     "output_type": "execute_result"
    }
   ],
   "source": [
    "data.dropna().head()"
   ]
  },
  {
   "cell_type": "code",
   "execution_count": 24,
   "metadata": {
    "collapsed": false
   },
   "outputs": [],
   "source": [
    "#-Merge Exporter GDP Information-#\n",
    "data = data.merge(gdp2013, how='inner', left_on=['iiso3c'], right_on=['Country Code'])\n",
    "del data['Country Code']\n",
    "data.rename(columns={'gdp' : 'igdp'}, inplace=True)"
   ]
  },
  {
   "cell_type": "code",
   "execution_count": 25,
   "metadata": {
    "collapsed": false
   },
   "outputs": [
    {
     "data": {
      "text/html": [
       "<div>\n",
       "<table border=\"1\" class=\"dataframe\">\n",
       "  <thead>\n",
       "    <tr style=\"text-align: right;\">\n",
       "      <th></th>\n",
       "      <th>year</th>\n",
       "      <th>eiso3c</th>\n",
       "      <th>iiso3c</th>\n",
       "      <th>value</th>\n",
       "      <th>dist</th>\n",
       "      <th>egdp</th>\n",
       "      <th>igdp</th>\n",
       "    </tr>\n",
       "  </thead>\n",
       "  <tbody>\n",
       "    <tr>\n",
       "      <th>0</th>\n",
       "      <td>2013</td>\n",
       "      <td>ABW</td>\n",
       "      <td>BEL</td>\n",
       "      <td>774353.0</td>\n",
       "      <td>7847.070</td>\n",
       "      <td>NaN</td>\n",
       "      <td>4.232125e+11</td>\n",
       "    </tr>\n",
       "    <tr>\n",
       "      <th>1</th>\n",
       "      <td>2013</td>\n",
       "      <td>ALB</td>\n",
       "      <td>BEL</td>\n",
       "      <td>22101708.0</td>\n",
       "      <td>1589.107</td>\n",
       "      <td>1.104057e+10</td>\n",
       "      <td>4.232125e+11</td>\n",
       "    </tr>\n",
       "    <tr>\n",
       "      <th>2</th>\n",
       "      <td>2013</td>\n",
       "      <td>ARG</td>\n",
       "      <td>BEL</td>\n",
       "      <td>412813198.0</td>\n",
       "      <td>11326.760</td>\n",
       "      <td>3.278999e+11</td>\n",
       "      <td>4.232125e+11</td>\n",
       "    </tr>\n",
       "    <tr>\n",
       "      <th>3</th>\n",
       "      <td>2013</td>\n",
       "      <td>ARM</td>\n",
       "      <td>BEL</td>\n",
       "      <td>70188189.0</td>\n",
       "      <td>3299.886</td>\n",
       "      <td>6.861761e+09</td>\n",
       "      <td>4.232125e+11</td>\n",
       "    </tr>\n",
       "    <tr>\n",
       "      <th>4</th>\n",
       "      <td>2013</td>\n",
       "      <td>ATG</td>\n",
       "      <td>BEL</td>\n",
       "      <td>902915.0</td>\n",
       "      <td>6881.374</td>\n",
       "      <td>1.030310e+09</td>\n",
       "      <td>4.232125e+11</td>\n",
       "    </tr>\n",
       "  </tbody>\n",
       "</table>\n",
       "</div>"
      ],
      "text/plain": [
       "   year eiso3c iiso3c        value       dist          egdp          igdp\n",
       "0  2013    ABW    BEL     774353.0   7847.070           NaN  4.232125e+11\n",
       "1  2013    ALB    BEL   22101708.0   1589.107  1.104057e+10  4.232125e+11\n",
       "2  2013    ARG    BEL  412813198.0  11326.760  3.278999e+11  4.232125e+11\n",
       "3  2013    ARM    BEL   70188189.0   3299.886  6.861761e+09  4.232125e+11\n",
       "4  2013    ATG    BEL     902915.0   6881.374  1.030310e+09  4.232125e+11"
      ]
     },
     "execution_count": 25,
     "metadata": {},
     "output_type": "execute_result"
    }
   ],
   "source": [
    "data.head()"
   ]
  },
  {
   "cell_type": "code",
   "execution_count": 26,
   "metadata": {
    "collapsed": false
   },
   "outputs": [
    {
     "name": "stdout",
     "output_type": "stream",
     "text": [
      "(22695, 7)\n",
      "(19713, 7)\n"
     ]
    }
   ],
   "source": [
    "#-Clean Up by Dropping NaN Values-#\n",
    "print(data.shape)\n",
    "data = data.dropna()\n",
    "print(data.shape)"
   ]
  },
  {
   "cell_type": "markdown",
   "metadata": {},
   "source": [
    "### Description of the data"
   ]
  },
  {
   "cell_type": "code",
   "execution_count": 27,
   "metadata": {
    "collapsed": false
   },
   "outputs": [
    {
     "data": {
      "text/html": [
       "<div>\n",
       "<table border=\"1\" class=\"dataframe\">\n",
       "  <thead>\n",
       "    <tr style=\"text-align: right;\">\n",
       "      <th></th>\n",
       "      <th>year</th>\n",
       "      <th>value</th>\n",
       "      <th>dist</th>\n",
       "      <th>egdp</th>\n",
       "      <th>igdp</th>\n",
       "    </tr>\n",
       "  </thead>\n",
       "  <tbody>\n",
       "    <tr>\n",
       "      <th>count</th>\n",
       "      <td>19713.0</td>\n",
       "      <td>1.971300e+04</td>\n",
       "      <td>19713.000000</td>\n",
       "      <td>1.971300e+04</td>\n",
       "      <td>1.971300e+04</td>\n",
       "    </tr>\n",
       "    <tr>\n",
       "      <th>mean</th>\n",
       "      <td>2013.0</td>\n",
       "      <td>7.952853e+08</td>\n",
       "      <td>7475.358396</td>\n",
       "      <td>4.820946e+11</td>\n",
       "      <td>3.865739e+11</td>\n",
       "    </tr>\n",
       "    <tr>\n",
       "      <th>std</th>\n",
       "      <td>0.0</td>\n",
       "      <td>6.974516e+09</td>\n",
       "      <td>4420.311050</td>\n",
       "      <td>1.556033e+12</td>\n",
       "      <td>1.388119e+12</td>\n",
       "    </tr>\n",
       "    <tr>\n",
       "      <th>min</th>\n",
       "      <td>2013.0</td>\n",
       "      <td>1.000000e+00</td>\n",
       "      <td>8.300385</td>\n",
       "      <td>1.203875e+08</td>\n",
       "      <td>2.620733e+07</td>\n",
       "    </tr>\n",
       "    <tr>\n",
       "      <th>25%</th>\n",
       "      <td>2013.0</td>\n",
       "      <td>1.053100e+05</td>\n",
       "      <td>3979.619000</td>\n",
       "      <td>1.139811e+10</td>\n",
       "      <td>8.635166e+09</td>\n",
       "    </tr>\n",
       "    <tr>\n",
       "      <th>50%</th>\n",
       "      <td>2013.0</td>\n",
       "      <td>3.592025e+06</td>\n",
       "      <td>7069.655000</td>\n",
       "      <td>4.530376e+10</td>\n",
       "      <td>3.158064e+10</td>\n",
       "    </tr>\n",
       "    <tr>\n",
       "      <th>75%</th>\n",
       "      <td>2013.0</td>\n",
       "      <td>7.231337e+07</td>\n",
       "      <td>10396.750000</td>\n",
       "      <td>2.530542e+11</td>\n",
       "      <td>2.024215e+11</td>\n",
       "    </tr>\n",
       "    <tr>\n",
       "      <th>max</th>\n",
       "      <td>2013.0</td>\n",
       "      <td>4.220679e+11</td>\n",
       "      <td>19812.040000</td>\n",
       "      <td>1.445151e+13</td>\n",
       "      <td>1.445151e+13</td>\n",
       "    </tr>\n",
       "  </tbody>\n",
       "</table>\n",
       "</div>"
      ],
      "text/plain": [
       "          year         value          dist          egdp          igdp\n",
       "count  19713.0  1.971300e+04  19713.000000  1.971300e+04  1.971300e+04\n",
       "mean    2013.0  7.952853e+08   7475.358396  4.820946e+11  3.865739e+11\n",
       "std        0.0  6.974516e+09   4420.311050  1.556033e+12  1.388119e+12\n",
       "min     2013.0  1.000000e+00      8.300385  1.203875e+08  2.620733e+07\n",
       "25%     2013.0  1.053100e+05   3979.619000  1.139811e+10  8.635166e+09\n",
       "50%     2013.0  3.592025e+06   7069.655000  4.530376e+10  3.158064e+10\n",
       "75%     2013.0  7.231337e+07  10396.750000  2.530542e+11  2.024215e+11\n",
       "max     2013.0  4.220679e+11  19812.040000  1.445151e+13  1.445151e+13"
      ]
     },
     "execution_count": 27,
     "metadata": {},
     "output_type": "execute_result"
    }
   ],
   "source": [
    "data.describe()"
   ]
  },
  {
   "cell_type": "markdown",
   "metadata": {},
   "source": [
    "The names of all the variables are as follows:"
   ]
  },
  {
   "cell_type": "code",
   "execution_count": 28,
   "metadata": {
    "collapsed": false
   },
   "outputs": [
    {
     "data": {
      "text/plain": [
       "Index(['year', 'eiso3c', 'iiso3c', 'value', 'dist', 'egdp', 'igdp'], dtype='object')"
      ]
     },
     "execution_count": 28,
     "metadata": {},
     "output_type": "execute_result"
    }
   ],
   "source": [
    "data.columns"
   ]
  },
  {
   "cell_type": "markdown",
   "metadata": {},
   "source": [
    "Here `egdp` is export country GDP, `igdp` is import country GDP and `dist` is distance.  These are our regressors.  The dependent variable is `value`."
   ]
  },
  {
   "cell_type": "markdown",
   "metadata": {},
   "source": [
    "### Estimation "
   ]
  },
  {
   "cell_type": "markdown",
   "metadata": {},
   "source": [
    "Estimate the basic gravity model"
   ]
  },
  {
   "cell_type": "code",
   "execution_count": 29,
   "metadata": {
    "collapsed": false
   },
   "outputs": [
    {
     "name": "stdout",
     "output_type": "stream",
     "text": [
      "                            OLS Regression Results                            \n",
      "==============================================================================\n",
      "Dep. Variable:             log(value)   R-squared:                       0.653\n",
      "Model:                            OLS   Adj. R-squared:                  0.653\n",
      "Method:                 Least Squares   F-statistic:                 1.203e+04\n",
      "Date:                Wed, 15 Jun 2016   Prob (F-statistic):               0.00\n",
      "Time:                        23:17:00   Log-Likelihood:                -47217.\n",
      "No. Observations:               19713   AIC:                         9.444e+04\n",
      "Df Residuals:                   19709   BIC:                         9.447e+04\n",
      "Df Model:                           3                                         \n",
      "Covariance Type:                  HC1                                         \n",
      "==============================================================================\n",
      "                 coef    std err          z      P>|z|      [95.0% Conf. Int.]\n",
      "------------------------------------------------------------------------------\n",
      "Intercept    -30.0796      0.394    -76.280      0.000       -30.852   -29.307\n",
      "log(egdp)      1.0282      0.009    119.181      0.000         1.011     1.045\n",
      "log(igdp)      1.2750      0.008    153.268      0.000         1.259     1.291\n",
      "log(dist)     -1.3551      0.023    -58.557      0.000        -1.400    -1.310\n",
      "==============================================================================\n",
      "Omnibus:                     1824.154   Durbin-Watson:                   1.597\n",
      "Prob(Omnibus):                  0.000   Jarque-Bera (JB):             3408.885\n",
      "Skew:                          -0.636   Prob(JB):                         0.00\n",
      "Kurtosis:                       4.592   Cond. No.                         708.\n",
      "==============================================================================\n",
      "\n",
      "Warnings:\n",
      "[1] Standard Errors are heteroscedasticity robust (HC1)\n"
     ]
    }
   ],
   "source": [
    "formula = \"log(value) ~ log(egdp) + log(igdp) + log(dist)\"\n",
    "model = smf.ols(formula, data)\n",
    "result = model.fit(cov_type='HC1')\n",
    "print(result.summary())"
   ]
  },
  {
   "cell_type": "code",
   "execution_count": null,
   "metadata": {
    "collapsed": true
   },
   "outputs": [],
   "source": []
  }
 ],
 "metadata": {
  "kernelspec": {
   "display_name": "Python 3",
   "language": "python",
   "name": "python3"
  },
  "language_info": {
   "codemirror_mode": {
    "name": "ipython",
    "version": 3
   },
   "file_extension": ".py",
   "mimetype": "text/x-python",
   "name": "python",
   "nbconvert_exporter": "python",
   "pygments_lexer": "ipython3",
   "version": "3.5.1"
  }
 },
 "nbformat": 4,
 "nbformat_minor": 0
}
